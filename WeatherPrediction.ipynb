{
 "cells": [
  {
   "cell_type": "markdown",
   "id": "1e9076d7",
   "metadata": {},
   "source": [
    "# Data Mining Process"
   ]
  },
  {
   "cell_type": "code",
   "execution_count": 167,
   "id": "3872c10b",
   "metadata": {},
   "outputs": [],
   "source": [
    "import pandas as pd\n",
    "import numpy as np\n",
    "import matplotlib.pyplot as plt\n",
    "import seaborn as sns\n",
    "import plotly.graph_objects as go"
   ]
  },
  {
   "cell_type": "markdown",
   "id": "481dfb64",
   "metadata": {},
   "source": [
    "# Data Collection and Importing the Data"
   ]
  },
  {
   "cell_type": "code",
   "execution_count": 168,
   "id": "e4168471",
   "metadata": {},
   "outputs": [],
   "source": [
    "#Reading the dataset \n",
    "df = pd.read_csv(\"EarthCam_DataScience_Data.csv\")"
   ]
  },
  {
   "cell_type": "markdown",
   "id": "97b89c34",
   "metadata": {},
   "source": [
    "# Data Cleaning and Wrangling"
   ]
  },
  {
   "cell_type": "markdown",
   "id": "77509794",
   "metadata": {},
   "source": [
    "### Handling Missing Values in DataFrame"
   ]
  },
  {
   "cell_type": "code",
   "execution_count": 169,
   "id": "4d921554",
   "metadata": {},
   "outputs": [
    {
     "name": "stdout",
     "output_type": "stream",
     "text": [
      "ObservedAt: 0\n",
      "ObservedAt_DateTime: 0\n",
      "Station: 0\n",
      "Record: 0\n",
      "ID: 0\n",
      "datetime: 0\n",
      "Temperature: 0\n",
      "Dewpoint: 0\n",
      "FeelsLike: 0\n",
      "HeatIndex: 0\n",
      "Windchill: 0\n",
      "Pressure: 0\n",
      "Precipitation: 0\n",
      "Wind: 0\n",
      "RelativeHumidity: 0\n",
      "CurrentConditions: 0\n",
      "CurrentConditionsAbbreviation: 6241\n",
      "ConditionType: 0\n",
      "CloudCondition: 0\n",
      "CloudReport: 0\n",
      "Visibility: 0\n",
      "Clouds: 0\n",
      "Lightning: 0\n",
      "SunInfo: 0\n",
      "MoonInfo: 0\n",
      "raw: 0\n",
      "daily_total_precipitation: 7324\n"
     ]
    }
   ],
   "source": [
    "#Checking for the null values\n",
    "for col in df.columns:\n",
    "    print(col + ': ' + str(df[col].isna().sum()))"
   ]
  },
  {
   "cell_type": "code",
   "execution_count": 170,
   "id": "814b752c",
   "metadata": {},
   "outputs": [],
   "source": [
    "#If a column has a number of missing values greater than or equal to the threshold then dropped from the DataFrame.\n",
    "threshhold = 0.6*len(df)\n",
    "\n",
    "for col in df.columns:\n",
    "    missing_count = df[col].isna().sum()\n",
    "    if missing_count >= threshhold:\n",
    "        df.drop(col, axis=1, inplace=True)"
   ]
  },
  {
   "cell_type": "code",
   "execution_count": 171,
   "id": "313c7db6",
   "metadata": {},
   "outputs": [
    {
     "data": {
      "text/plain": [
       "Index(['ObservedAt', 'ObservedAt_DateTime', 'Station', 'Record', 'ID',\n",
       "       'datetime', 'Temperature', 'Dewpoint', 'FeelsLike', 'HeatIndex',\n",
       "       'Windchill', 'Pressure', 'Precipitation', 'Wind', 'RelativeHumidity',\n",
       "       'CurrentConditions', 'ConditionType', 'CloudCondition', 'CloudReport',\n",
       "       'Visibility', 'Clouds', 'Lightning', 'SunInfo', 'MoonInfo', 'raw'],\n",
       "      dtype='object')"
      ]
     },
     "execution_count": 171,
     "metadata": {},
     "output_type": "execute_result"
    }
   ],
   "source": [
    "#Checking Columns\n",
    "df.columns"
   ]
  },
  {
   "cell_type": "markdown",
   "id": "9a9183a6",
   "metadata": {},
   "source": [
    "### Checking Missing values again"
   ]
  },
  {
   "cell_type": "code",
   "execution_count": 172,
   "id": "2656ce80",
   "metadata": {},
   "outputs": [
    {
     "data": {
      "text/plain": [
       "ObservedAt             0\n",
       "ObservedAt_DateTime    0\n",
       "Station                0\n",
       "Record                 0\n",
       "ID                     0\n",
       "datetime               0\n",
       "Temperature            0\n",
       "Dewpoint               0\n",
       "FeelsLike              0\n",
       "HeatIndex              0\n",
       "Windchill              0\n",
       "Pressure               0\n",
       "Precipitation          0\n",
       "Wind                   0\n",
       "RelativeHumidity       0\n",
       "CurrentConditions      0\n",
       "ConditionType          0\n",
       "CloudCondition         0\n",
       "CloudReport            0\n",
       "Visibility             0\n",
       "Clouds                 0\n",
       "Lightning              0\n",
       "SunInfo                0\n",
       "MoonInfo               0\n",
       "raw                    0\n",
       "dtype: int64"
      ]
     },
     "execution_count": 172,
     "metadata": {},
     "output_type": "execute_result"
    }
   ],
   "source": [
    "#Checking for null values\n",
    "df.isna().sum()"
   ]
  },
  {
   "cell_type": "markdown",
   "id": "1eeecce9",
   "metadata": {},
   "source": [
    "### Handling DType of all the Columns"
   ]
  },
  {
   "cell_type": "code",
   "execution_count": 173,
   "id": "41ca8400",
   "metadata": {},
   "outputs": [
    {
     "name": "stdout",
     "output_type": "stream",
     "text": [
      "ObservedAt: int64\n",
      "ObservedAt_DateTime: object\n",
      "Station: object\n",
      "Record: object\n",
      "ID: int64\n",
      "datetime: object\n",
      "Temperature: object\n",
      "Dewpoint: object\n",
      "FeelsLike: object\n",
      "HeatIndex: object\n",
      "Windchill: object\n",
      "Pressure: object\n",
      "Precipitation: object\n",
      "Wind: object\n",
      "RelativeHumidity: float64\n",
      "CurrentConditions: object\n",
      "ConditionType: object\n",
      "CloudCondition: object\n",
      "CloudReport: object\n",
      "Visibility: object\n",
      "Clouds: object\n",
      "Lightning: object\n",
      "SunInfo: object\n",
      "MoonInfo: object\n",
      "raw: object\n"
     ]
    }
   ],
   "source": [
    "#Getting all columns info\n",
    "for col in df.columns:\n",
    "    print(col + ': ' +str(df[col].dtype))"
   ]
  },
  {
   "cell_type": "code",
   "execution_count": 174,
   "id": "31e46b26",
   "metadata": {},
   "outputs": [],
   "source": [
    "from datetime import datetime\n",
    "df['Date & Time'] = pd.to_datetime(df['ObservedAt_DateTime'])"
   ]
  },
  {
   "cell_type": "code",
   "execution_count": 175,
   "id": "e4787bff",
   "metadata": {},
   "outputs": [],
   "source": [
    "#Drop the column\n",
    "df = df.drop('ObservedAt_DateTime', axis=1)"
   ]
  },
  {
   "cell_type": "code",
   "execution_count": 176,
   "id": "6924668c",
   "metadata": {},
   "outputs": [],
   "source": [
    "# Extract the day, month, year and time from Date & Time column.\n",
    "df['Day'] = df['Date & Time'].dt.day\n",
    "df['Month'] = df['Date & Time'].dt.month\n",
    "df['Year'] = df['Date & Time'].dt.year\n",
    "df['Time'] = df['Date & Time'].dt.time"
   ]
  },
  {
   "cell_type": "code",
   "execution_count": 177,
   "id": "d302af5a",
   "metadata": {},
   "outputs": [],
   "source": [
    "#Extract the timezone from datetime\n",
    "df['Timezone'] = df['datetime'].str.split(\": '\").str[1].str.split(\"',\").str[0].str.strip()"
   ]
  },
  {
   "cell_type": "code",
   "execution_count": 178,
   "id": "496f2b97",
   "metadata": {},
   "outputs": [],
   "source": [
    "#Dropping datetime column as collumn.\n",
    "df = df.drop('datetime', axis=1)"
   ]
  },
  {
   "cell_type": "code",
   "execution_count": 179,
   "id": "ec817783",
   "metadata": {},
   "outputs": [],
   "source": [
    "# Convert the strings to dictionaries using eval()\n",
    "df['Precipitation'] = df['Precipitation'].apply(eval)\n",
    "\n",
    "# Extract 'Day' and 'Day_snow' values from Precipitation\n",
    "df['precipitation_rain'] = df['Precipitation'].apply(lambda x: x['Day']['In'])\n",
    "df['precipitation_snow'] = df['Precipitation'].apply(lambda x: x['Day_snow']['In'])"
   ]
  },
  {
   "cell_type": "code",
   "execution_count": 180,
   "id": "5c44ed13",
   "metadata": {},
   "outputs": [],
   "source": [
    "# Convert the strings to dictionaries using eval()\n",
    "df['MoonInfo'] = df['MoonInfo'].apply(eval)\n",
    "df['MoonInfo'] = df['MoonInfo'].apply(lambda x: x['PhaseName'])"
   ]
  },
  {
   "cell_type": "code",
   "execution_count": 181,
   "id": "02a956d1",
   "metadata": {},
   "outputs": [],
   "source": [
    "# Convert the strings to dictionaries using eval()\n",
    "df['Wind'] = df['Wind'].apply(eval)\n",
    "df['Wind_Speed_MPH'] = df['Wind'].apply(lambda x: x['Speed']['MilesPerHour'])"
   ]
  },
  {
   "cell_type": "code",
   "execution_count": 182,
   "id": "d47b20ac",
   "metadata": {},
   "outputs": [
    {
     "data": {
      "text/html": [
       "<div>\n",
       "<style scoped>\n",
       "    .dataframe tbody tr th:only-of-type {\n",
       "        vertical-align: middle;\n",
       "    }\n",
       "\n",
       "    .dataframe tbody tr th {\n",
       "        vertical-align: top;\n",
       "    }\n",
       "\n",
       "    .dataframe thead th {\n",
       "        text-align: right;\n",
       "    }\n",
       "</style>\n",
       "<table border=\"1\" class=\"dataframe\">\n",
       "  <thead>\n",
       "    <tr style=\"text-align: right;\">\n",
       "      <th></th>\n",
       "      <th>ObservedAt</th>\n",
       "      <th>Station</th>\n",
       "      <th>Record</th>\n",
       "      <th>ID</th>\n",
       "      <th>Temperature</th>\n",
       "      <th>Dewpoint</th>\n",
       "      <th>FeelsLike</th>\n",
       "      <th>HeatIndex</th>\n",
       "      <th>Windchill</th>\n",
       "      <th>Pressure</th>\n",
       "      <th>...</th>\n",
       "      <th>raw</th>\n",
       "      <th>Date &amp; Time</th>\n",
       "      <th>Day</th>\n",
       "      <th>Month</th>\n",
       "      <th>Year</th>\n",
       "      <th>Time</th>\n",
       "      <th>Timezone</th>\n",
       "      <th>precipitation_rain</th>\n",
       "      <th>precipitation_snow</th>\n",
       "      <th>Wind_Speed_MPH</th>\n",
       "    </tr>\n",
       "  </thead>\n",
       "  <tbody>\n",
       "    <tr>\n",
       "      <th>0</th>\n",
       "      <td>1525172100</td>\n",
       "      <td>KJOT</td>\n",
       "      <td>011055Z AUTO 19004KT 10SM CLR 13/03 A3000 RMK ...</td>\n",
       "      <td>220160752</td>\n",
       "      <td>{'Fahrenheit': 55, 'Celsius': 13}</td>\n",
       "      <td>{'Fahrenheit': 37, 'Celsius': 3}</td>\n",
       "      <td>{'Type': None, 'Fahrenheit': 55, 'Celsius': 13}</td>\n",
       "      <td>{'Fahrenheit': None, 'Celsius': None}</td>\n",
       "      <td>{'Fahrenheit': None, 'Celsius': None}</td>\n",
       "      <td>{'Millibar': 1015.92, 'InchesOfMercury': 30}</td>\n",
       "      <td>...</td>\n",
       "      <td>AUTO 19004KT 10SM CLR 13/03 A3000 RMK AO2 T013...</td>\n",
       "      <td>2018-05-01 05:55:00</td>\n",
       "      <td>1</td>\n",
       "      <td>5</td>\n",
       "      <td>2018</td>\n",
       "      <td>05:55:00</td>\n",
       "      <td>America/Chicago</td>\n",
       "      <td>0.0</td>\n",
       "      <td>0</td>\n",
       "      <td>4.6</td>\n",
       "    </tr>\n",
       "    <tr>\n",
       "      <th>1</th>\n",
       "      <td>1525193700</td>\n",
       "      <td>KJOT</td>\n",
       "      <td>011655Z AUTO 23013G23KT 10SM SCT065 27/11 A299...</td>\n",
       "      <td>220215015</td>\n",
       "      <td>{'Fahrenheit': 81, 'Celsius': 27}</td>\n",
       "      <td>{'Fahrenheit': 52, 'Celsius': 11}</td>\n",
       "      <td>{'Type': None, 'Fahrenheit': 81, 'Celsius': 27}</td>\n",
       "      <td>{'Fahrenheit': None, 'Celsius': None}</td>\n",
       "      <td>{'Fahrenheit': None, 'Celsius': None}</td>\n",
       "      <td>{'Millibar': 1015.58, 'InchesOfMercury': 29.99}</td>\n",
       "      <td>...</td>\n",
       "      <td>AUTO 23013G23KT 10SM SCT065 27/11 A2999 RMK AO...</td>\n",
       "      <td>2018-05-01 11:55:00</td>\n",
       "      <td>1</td>\n",
       "      <td>5</td>\n",
       "      <td>2018</td>\n",
       "      <td>11:55:00</td>\n",
       "      <td>America/Chicago</td>\n",
       "      <td>0.0</td>\n",
       "      <td>0</td>\n",
       "      <td>15.0</td>\n",
       "    </tr>\n",
       "    <tr>\n",
       "      <th>2</th>\n",
       "      <td>1525215300</td>\n",
       "      <td>KJOT</td>\n",
       "      <td>012255Z AUTO 19012G20KT 10SM CLR 28/09 A2991 R...</td>\n",
       "      <td>220262557</td>\n",
       "      <td>{'Fahrenheit': 82, 'Celsius': 28}</td>\n",
       "      <td>{'Fahrenheit': 48, 'Celsius': 9}</td>\n",
       "      <td>{'Type': None, 'Fahrenheit': 82, 'Celsius': 28}</td>\n",
       "      <td>{'Fahrenheit': None, 'Celsius': None}</td>\n",
       "      <td>{'Fahrenheit': None, 'Celsius': None}</td>\n",
       "      <td>{'Millibar': 1012.87, 'InchesOfMercury': 29.91}</td>\n",
       "      <td>...</td>\n",
       "      <td>AUTO 19012G20KT 10SM CLR 28/09 A2991 RMK AO2 T...</td>\n",
       "      <td>2018-05-01 17:55:00</td>\n",
       "      <td>1</td>\n",
       "      <td>5</td>\n",
       "      <td>2018</td>\n",
       "      <td>17:55:00</td>\n",
       "      <td>America/Chicago</td>\n",
       "      <td>0.0</td>\n",
       "      <td>0</td>\n",
       "      <td>13.8</td>\n",
       "    </tr>\n",
       "    <tr>\n",
       "      <th>3</th>\n",
       "      <td>1525236900</td>\n",
       "      <td>KJOT</td>\n",
       "      <td>020455Z AUTO 20013G18KT 10SM CLR 23/11 A2994 R...</td>\n",
       "      <td>220311850</td>\n",
       "      <td>{'Fahrenheit': 73, 'Celsius': 23}</td>\n",
       "      <td>{'Fahrenheit': 52, 'Celsius': 11}</td>\n",
       "      <td>{'Type': None, 'Fahrenheit': 73, 'Celsius': 23}</td>\n",
       "      <td>{'Fahrenheit': None, 'Celsius': None}</td>\n",
       "      <td>{'Fahrenheit': None, 'Celsius': None}</td>\n",
       "      <td>{'Millibar': 1013.89, 'InchesOfMercury': 29.94}</td>\n",
       "      <td>...</td>\n",
       "      <td>AUTO 20013G18KT 10SM CLR 23/11 A2994 RMK AO2 T...</td>\n",
       "      <td>2018-05-01 23:55:00</td>\n",
       "      <td>1</td>\n",
       "      <td>5</td>\n",
       "      <td>2018</td>\n",
       "      <td>23:55:00</td>\n",
       "      <td>America/Chicago</td>\n",
       "      <td>0.0</td>\n",
       "      <td>0</td>\n",
       "      <td>15.0</td>\n",
       "    </tr>\n",
       "    <tr>\n",
       "      <th>4</th>\n",
       "      <td>1525258500</td>\n",
       "      <td>KJOT</td>\n",
       "      <td>021055Z AUTO 21008KT 10SM CLR 21/11 A2991 RMK ...</td>\n",
       "      <td>220363232</td>\n",
       "      <td>{'Fahrenheit': 70, 'Celsius': 21}</td>\n",
       "      <td>{'Fahrenheit': 52, 'Celsius': 11}</td>\n",
       "      <td>{'Type': None, 'Fahrenheit': 70, 'Celsius': 21}</td>\n",
       "      <td>{'Fahrenheit': None, 'Celsius': None}</td>\n",
       "      <td>{'Fahrenheit': None, 'Celsius': None}</td>\n",
       "      <td>{'Millibar': 1012.87, 'InchesOfMercury': 29.91}</td>\n",
       "      <td>...</td>\n",
       "      <td>AUTO 21008KT 10SM CLR 21/11 A2991 RMK AO2 T020...</td>\n",
       "      <td>2018-05-02 05:55:00</td>\n",
       "      <td>2</td>\n",
       "      <td>5</td>\n",
       "      <td>2018</td>\n",
       "      <td>05:55:00</td>\n",
       "      <td>America/Chicago</td>\n",
       "      <td>0.0</td>\n",
       "      <td>0</td>\n",
       "      <td>9.2</td>\n",
       "    </tr>\n",
       "  </tbody>\n",
       "</table>\n",
       "<p>5 rows × 32 columns</p>\n",
       "</div>"
      ],
      "text/plain": [
       "   ObservedAt Station                                             Record  \\\n",
       "0  1525172100    KJOT  011055Z AUTO 19004KT 10SM CLR 13/03 A3000 RMK ...   \n",
       "1  1525193700    KJOT  011655Z AUTO 23013G23KT 10SM SCT065 27/11 A299...   \n",
       "2  1525215300    KJOT  012255Z AUTO 19012G20KT 10SM CLR 28/09 A2991 R...   \n",
       "3  1525236900    KJOT  020455Z AUTO 20013G18KT 10SM CLR 23/11 A2994 R...   \n",
       "4  1525258500    KJOT  021055Z AUTO 21008KT 10SM CLR 21/11 A2991 RMK ...   \n",
       "\n",
       "          ID                        Temperature  \\\n",
       "0  220160752  {'Fahrenheit': 55, 'Celsius': 13}   \n",
       "1  220215015  {'Fahrenheit': 81, 'Celsius': 27}   \n",
       "2  220262557  {'Fahrenheit': 82, 'Celsius': 28}   \n",
       "3  220311850  {'Fahrenheit': 73, 'Celsius': 23}   \n",
       "4  220363232  {'Fahrenheit': 70, 'Celsius': 21}   \n",
       "\n",
       "                            Dewpoint  \\\n",
       "0   {'Fahrenheit': 37, 'Celsius': 3}   \n",
       "1  {'Fahrenheit': 52, 'Celsius': 11}   \n",
       "2   {'Fahrenheit': 48, 'Celsius': 9}   \n",
       "3  {'Fahrenheit': 52, 'Celsius': 11}   \n",
       "4  {'Fahrenheit': 52, 'Celsius': 11}   \n",
       "\n",
       "                                         FeelsLike  \\\n",
       "0  {'Type': None, 'Fahrenheit': 55, 'Celsius': 13}   \n",
       "1  {'Type': None, 'Fahrenheit': 81, 'Celsius': 27}   \n",
       "2  {'Type': None, 'Fahrenheit': 82, 'Celsius': 28}   \n",
       "3  {'Type': None, 'Fahrenheit': 73, 'Celsius': 23}   \n",
       "4  {'Type': None, 'Fahrenheit': 70, 'Celsius': 21}   \n",
       "\n",
       "                               HeatIndex  \\\n",
       "0  {'Fahrenheit': None, 'Celsius': None}   \n",
       "1  {'Fahrenheit': None, 'Celsius': None}   \n",
       "2  {'Fahrenheit': None, 'Celsius': None}   \n",
       "3  {'Fahrenheit': None, 'Celsius': None}   \n",
       "4  {'Fahrenheit': None, 'Celsius': None}   \n",
       "\n",
       "                               Windchill  \\\n",
       "0  {'Fahrenheit': None, 'Celsius': None}   \n",
       "1  {'Fahrenheit': None, 'Celsius': None}   \n",
       "2  {'Fahrenheit': None, 'Celsius': None}   \n",
       "3  {'Fahrenheit': None, 'Celsius': None}   \n",
       "4  {'Fahrenheit': None, 'Celsius': None}   \n",
       "\n",
       "                                          Pressure  ...  \\\n",
       "0     {'Millibar': 1015.92, 'InchesOfMercury': 30}  ...   \n",
       "1  {'Millibar': 1015.58, 'InchesOfMercury': 29.99}  ...   \n",
       "2  {'Millibar': 1012.87, 'InchesOfMercury': 29.91}  ...   \n",
       "3  {'Millibar': 1013.89, 'InchesOfMercury': 29.94}  ...   \n",
       "4  {'Millibar': 1012.87, 'InchesOfMercury': 29.91}  ...   \n",
       "\n",
       "                                                 raw         Date & Time  Day  \\\n",
       "0  AUTO 19004KT 10SM CLR 13/03 A3000 RMK AO2 T013... 2018-05-01 05:55:00    1   \n",
       "1  AUTO 23013G23KT 10SM SCT065 27/11 A2999 RMK AO... 2018-05-01 11:55:00    1   \n",
       "2  AUTO 19012G20KT 10SM CLR 28/09 A2991 RMK AO2 T... 2018-05-01 17:55:00    1   \n",
       "3  AUTO 20013G18KT 10SM CLR 23/11 A2994 RMK AO2 T... 2018-05-01 23:55:00    1   \n",
       "4  AUTO 21008KT 10SM CLR 21/11 A2991 RMK AO2 T020... 2018-05-02 05:55:00    2   \n",
       "\n",
       "  Month  Year      Time         Timezone precipitation_rain  \\\n",
       "0     5  2018  05:55:00  America/Chicago                0.0   \n",
       "1     5  2018  11:55:00  America/Chicago                0.0   \n",
       "2     5  2018  17:55:00  America/Chicago                0.0   \n",
       "3     5  2018  23:55:00  America/Chicago                0.0   \n",
       "4     5  2018  05:55:00  America/Chicago                0.0   \n",
       "\n",
       "  precipitation_snow Wind_Speed_MPH  \n",
       "0                  0            4.6  \n",
       "1                  0           15.0  \n",
       "2                  0           13.8  \n",
       "3                  0           15.0  \n",
       "4                  0            9.2  \n",
       "\n",
       "[5 rows x 32 columns]"
      ]
     },
     "execution_count": 182,
     "metadata": {},
     "output_type": "execute_result"
    }
   ],
   "source": [
    "df.head()"
   ]
  },
  {
   "cell_type": "code",
   "execution_count": 183,
   "id": "0c100516",
   "metadata": {},
   "outputs": [],
   "source": [
    "#Extracting the elements from columns\n",
    "df['Dewpoint_Celsius'] = df['Dewpoint'].str.extract(r\"'Celsius': (\\d+)\")\n",
    "df['Dewpoint_Fahrenheit'] = df['Dewpoint'].str.extract(r\"'Fahrenheit': (\\d+)\")\n",
    "df['FeelsLike_Celsius'] = df['FeelsLike'].str.extract(r\"'Celsius': (\\d+)\")\n",
    "df['FeelsLike_Fahrenheit'] = df['FeelsLike'].str.extract(r\"'Fahrenheit': (\\d+)\")\n",
    "df['Pressure_In_Inches_of_Mercury'] = df['Pressure'].str.extract(r\"'InchesOfMercury': (\\d+)\")\n",
    "df['Visibility_In_Miles'] = df['Visibility'].str.extract(r\"'Miles': (\\d+)\")\n",
    "df['SunInfo_Sun-UP'] = df['SunInfo'].str.extract(r\"'IsSunUp': (\\w+)\", expand=False)\n",
    "df['Target_Fahrenheit'] = df['Temperature'].str.extract(r\"'Fahrenheit': (\\d+)\")\n",
    "df['Target_Celsius'] = df['Temperature'].str.extract(r\"'Celsius': (\\d+)\")"
   ]
  },
  {
   "cell_type": "code",
   "execution_count": 184,
   "id": "638d8283",
   "metadata": {},
   "outputs": [],
   "source": [
    "#Dropping columns\n",
    "df = df.drop(['ObservedAt', 'Record', 'ID', 'Dewpoint', 'FeelsLike', 'HeatIndex', 'Windchill', 'Pressure', 'Precipitation', 'Wind', 'Visibility', 'SunInfo', 'raw', 'Date & Time', 'Temperature', 'Clouds','Lightning', 'Station', 'precipitation_snow'], axis =1)"
   ]
  },
  {
   "cell_type": "code",
   "execution_count": 185,
   "id": "b6a5e831",
   "metadata": {},
   "outputs": [
    {
     "data": {
      "text/html": [
       "<div>\n",
       "<style scoped>\n",
       "    .dataframe tbody tr th:only-of-type {\n",
       "        vertical-align: middle;\n",
       "    }\n",
       "\n",
       "    .dataframe tbody tr th {\n",
       "        vertical-align: top;\n",
       "    }\n",
       "\n",
       "    .dataframe thead th {\n",
       "        text-align: right;\n",
       "    }\n",
       "</style>\n",
       "<table border=\"1\" class=\"dataframe\">\n",
       "  <thead>\n",
       "    <tr style=\"text-align: right;\">\n",
       "      <th></th>\n",
       "      <th>RelativeHumidity</th>\n",
       "      <th>CurrentConditions</th>\n",
       "      <th>ConditionType</th>\n",
       "      <th>CloudCondition</th>\n",
       "      <th>CloudReport</th>\n",
       "      <th>MoonInfo</th>\n",
       "      <th>Day</th>\n",
       "      <th>Month</th>\n",
       "      <th>Year</th>\n",
       "      <th>Time</th>\n",
       "      <th>...</th>\n",
       "      <th>Wind_Speed_MPH</th>\n",
       "      <th>Dewpoint_Celsius</th>\n",
       "      <th>Dewpoint_Fahrenheit</th>\n",
       "      <th>FeelsLike_Celsius</th>\n",
       "      <th>FeelsLike_Fahrenheit</th>\n",
       "      <th>Pressure_In_Inches_of_Mercury</th>\n",
       "      <th>Visibility_In_Miles</th>\n",
       "      <th>SunInfo_Sun-UP</th>\n",
       "      <th>Target_Fahrenheit</th>\n",
       "      <th>Target_Celsius</th>\n",
       "    </tr>\n",
       "  </thead>\n",
       "  <tbody>\n",
       "    <tr>\n",
       "      <th>0</th>\n",
       "      <td>0.509</td>\n",
       "      <td>Clear Skies</td>\n",
       "      <td>Clear</td>\n",
       "      <td>Clear Skies</td>\n",
       "      <td>Clear Skies</td>\n",
       "      <td>Full Moon</td>\n",
       "      <td>1</td>\n",
       "      <td>5</td>\n",
       "      <td>2018</td>\n",
       "      <td>05:55:00</td>\n",
       "      <td>...</td>\n",
       "      <td>4.6</td>\n",
       "      <td>3</td>\n",
       "      <td>37</td>\n",
       "      <td>13</td>\n",
       "      <td>55</td>\n",
       "      <td>30</td>\n",
       "      <td>10</td>\n",
       "      <td>True</td>\n",
       "      <td>55</td>\n",
       "      <td>13</td>\n",
       "    </tr>\n",
       "    <tr>\n",
       "      <th>1</th>\n",
       "      <td>0.368</td>\n",
       "      <td>Scattered</td>\n",
       "      <td>Cloudy</td>\n",
       "      <td>Scattered</td>\n",
       "      <td>Scattered</td>\n",
       "      <td>Full Moon</td>\n",
       "      <td>1</td>\n",
       "      <td>5</td>\n",
       "      <td>2018</td>\n",
       "      <td>11:55:00</td>\n",
       "      <td>...</td>\n",
       "      <td>15.0</td>\n",
       "      <td>11</td>\n",
       "      <td>52</td>\n",
       "      <td>27</td>\n",
       "      <td>81</td>\n",
       "      <td>29</td>\n",
       "      <td>10</td>\n",
       "      <td>True</td>\n",
       "      <td>81</td>\n",
       "      <td>27</td>\n",
       "    </tr>\n",
       "    <tr>\n",
       "      <th>2</th>\n",
       "      <td>0.303</td>\n",
       "      <td>Clear Skies</td>\n",
       "      <td>Clear</td>\n",
       "      <td>Clear Skies</td>\n",
       "      <td>Clear Skies</td>\n",
       "      <td>Full Moon</td>\n",
       "      <td>1</td>\n",
       "      <td>5</td>\n",
       "      <td>2018</td>\n",
       "      <td>17:55:00</td>\n",
       "      <td>...</td>\n",
       "      <td>13.8</td>\n",
       "      <td>9</td>\n",
       "      <td>48</td>\n",
       "      <td>28</td>\n",
       "      <td>82</td>\n",
       "      <td>29</td>\n",
       "      <td>10</td>\n",
       "      <td>True</td>\n",
       "      <td>82</td>\n",
       "      <td>28</td>\n",
       "    </tr>\n",
       "    <tr>\n",
       "      <th>3</th>\n",
       "      <td>0.468</td>\n",
       "      <td>Clear Skies</td>\n",
       "      <td>Clear</td>\n",
       "      <td>Clear Skies</td>\n",
       "      <td>Clear Skies</td>\n",
       "      <td>Waning Gibbous</td>\n",
       "      <td>1</td>\n",
       "      <td>5</td>\n",
       "      <td>2018</td>\n",
       "      <td>23:55:00</td>\n",
       "      <td>...</td>\n",
       "      <td>15.0</td>\n",
       "      <td>11</td>\n",
       "      <td>52</td>\n",
       "      <td>23</td>\n",
       "      <td>73</td>\n",
       "      <td>29</td>\n",
       "      <td>10</td>\n",
       "      <td>False</td>\n",
       "      <td>73</td>\n",
       "      <td>23</td>\n",
       "    </tr>\n",
       "    <tr>\n",
       "      <th>4</th>\n",
       "      <td>0.530</td>\n",
       "      <td>Clear Skies</td>\n",
       "      <td>Clear</td>\n",
       "      <td>Clear Skies</td>\n",
       "      <td>Clear Skies</td>\n",
       "      <td>Waning Gibbous</td>\n",
       "      <td>2</td>\n",
       "      <td>5</td>\n",
       "      <td>2018</td>\n",
       "      <td>05:55:00</td>\n",
       "      <td>...</td>\n",
       "      <td>9.2</td>\n",
       "      <td>11</td>\n",
       "      <td>52</td>\n",
       "      <td>21</td>\n",
       "      <td>70</td>\n",
       "      <td>29</td>\n",
       "      <td>10</td>\n",
       "      <td>True</td>\n",
       "      <td>70</td>\n",
       "      <td>21</td>\n",
       "    </tr>\n",
       "  </tbody>\n",
       "</table>\n",
       "<p>5 rows × 22 columns</p>\n",
       "</div>"
      ],
      "text/plain": [
       "   RelativeHumidity CurrentConditions ConditionType CloudCondition  \\\n",
       "0             0.509       Clear Skies         Clear    Clear Skies   \n",
       "1             0.368         Scattered        Cloudy      Scattered   \n",
       "2             0.303       Clear Skies         Clear    Clear Skies   \n",
       "3             0.468       Clear Skies         Clear    Clear Skies   \n",
       "4             0.530       Clear Skies         Clear    Clear Skies   \n",
       "\n",
       "   CloudReport        MoonInfo  Day  Month  Year      Time  ...  \\\n",
       "0  Clear Skies       Full Moon    1      5  2018  05:55:00  ...   \n",
       "1    Scattered       Full Moon    1      5  2018  11:55:00  ...   \n",
       "2  Clear Skies       Full Moon    1      5  2018  17:55:00  ...   \n",
       "3  Clear Skies  Waning Gibbous    1      5  2018  23:55:00  ...   \n",
       "4  Clear Skies  Waning Gibbous    2      5  2018  05:55:00  ...   \n",
       "\n",
       "  Wind_Speed_MPH  Dewpoint_Celsius  Dewpoint_Fahrenheit FeelsLike_Celsius  \\\n",
       "0            4.6                 3                   37                13   \n",
       "1           15.0                11                   52                27   \n",
       "2           13.8                 9                   48                28   \n",
       "3           15.0                11                   52                23   \n",
       "4            9.2                11                   52                21   \n",
       "\n",
       "  FeelsLike_Fahrenheit Pressure_In_Inches_of_Mercury Visibility_In_Miles  \\\n",
       "0                   55                            30                  10   \n",
       "1                   81                            29                  10   \n",
       "2                   82                            29                  10   \n",
       "3                   73                            29                  10   \n",
       "4                   70                            29                  10   \n",
       "\n",
       "  SunInfo_Sun-UP Target_Fahrenheit Target_Celsius  \n",
       "0           True                55             13  \n",
       "1           True                81             27  \n",
       "2           True                82             28  \n",
       "3          False                73             23  \n",
       "4           True                70             21  \n",
       "\n",
       "[5 rows x 22 columns]"
      ]
     },
     "execution_count": 185,
     "metadata": {},
     "output_type": "execute_result"
    }
   ],
   "source": [
    "#Printing the df after dropping columns\n",
    "df.head()"
   ]
  },
  {
   "cell_type": "code",
   "execution_count": 186,
   "id": "bcd60852",
   "metadata": {},
   "outputs": [],
   "source": [
    "#Filling the missing values\n",
    "df['Target_Celsius'].fillna(method='bfill', inplace=True)\n",
    "df['Target_Fahrenheit'].fillna(method='bfill', inplace=True)"
   ]
  },
  {
   "cell_type": "code",
   "execution_count": 187,
   "id": "878f9d51",
   "metadata": {},
   "outputs": [],
   "source": [
    "list1 = ['Dewpoint_Fahrenheit','Dewpoint_Celsius','FeelsLike_Fahrenheit','FeelsLike_Celsius',\n",
    "       'Pressure_In_Inches_of_Mercury', 'Visibility_In_Miles', 'Target_Fahrenheit','Target_Celsius']\n",
    "\n",
    "for col in list1:\n",
    "    df[col] = pd.to_numeric(df[col], errors='coerce')"
   ]
  },
  {
   "cell_type": "code",
   "execution_count": 188,
   "id": "aa9abff8",
   "metadata": {},
   "outputs": [
    {
     "name": "stdout",
     "output_type": "stream",
     "text": [
      "<class 'pandas.core.frame.DataFrame'>\n",
      "RangeIndex: 7324 entries, 0 to 7323\n",
      "Data columns (total 22 columns):\n",
      " #   Column                         Non-Null Count  Dtype  \n",
      "---  ------                         --------------  -----  \n",
      " 0   RelativeHumidity               7324 non-null   float64\n",
      " 1   CurrentConditions              7324 non-null   object \n",
      " 2   ConditionType                  7324 non-null   object \n",
      " 3   CloudCondition                 7324 non-null   object \n",
      " 4   CloudReport                    7324 non-null   object \n",
      " 5   MoonInfo                       7324 non-null   object \n",
      " 6   Day                            7324 non-null   int64  \n",
      " 7   Month                          7324 non-null   int64  \n",
      " 8   Year                           7324 non-null   int64  \n",
      " 9   Time                           7324 non-null   object \n",
      " 10  Timezone                       7324 non-null   object \n",
      " 11  precipitation_rain             7324 non-null   float64\n",
      " 12  Wind_Speed_MPH                 7324 non-null   float64\n",
      " 13  Dewpoint_Celsius               5283 non-null   float64\n",
      " 14  Dewpoint_Fahrenheit            7248 non-null   float64\n",
      " 15  FeelsLike_Celsius              5714 non-null   float64\n",
      " 16  FeelsLike_Fahrenheit           7231 non-null   float64\n",
      " 17  Pressure_In_Inches_of_Mercury  7309 non-null   float64\n",
      " 18  Visibility_In_Miles            7324 non-null   int64  \n",
      " 19  SunInfo_Sun-UP                 7324 non-null   object \n",
      " 20  Target_Fahrenheit              7324 non-null   int64  \n",
      " 21  Target_Celsius                 7324 non-null   int64  \n",
      "dtypes: float64(8), int64(6), object(8)\n",
      "memory usage: 1.2+ MB\n"
     ]
    }
   ],
   "source": [
    "df.info()"
   ]
  },
  {
   "cell_type": "code",
   "execution_count": 189,
   "id": "121bbdbb",
   "metadata": {},
   "outputs": [],
   "source": [
    "#Convert time to datetime\n",
    "df['Time'] = pd.to_datetime(df['Time'], format='%H:%M:%S')"
   ]
  },
  {
   "cell_type": "code",
   "execution_count": 190,
   "id": "51e77c7d",
   "metadata": {},
   "outputs": [
    {
     "name": "stdout",
     "output_type": "stream",
     "text": [
      "['CurrentConditions', 'ConditionType', 'CloudCondition', 'CloudReport', 'MoonInfo', 'Timezone', 'SunInfo_Sun-UP']\n"
     ]
    }
   ],
   "source": [
    "#Getting categorical columns \n",
    "categorical_columns = []\n",
    "\n",
    "for column in df.columns:\n",
    "    if df[column].dtype == 'object':\n",
    "        categorical_columns.append(column)\n",
    "\n",
    "print(categorical_columns)"
   ]
  },
  {
   "cell_type": "code",
   "execution_count": 191,
   "id": "f13537d2",
   "metadata": {},
   "outputs": [
    {
     "name": "stdout",
     "output_type": "stream",
     "text": [
      "['RelativeHumidity', 'Day', 'Month', 'Year', 'precipitation_rain', 'Wind_Speed_MPH', 'Dewpoint_Celsius', 'Dewpoint_Fahrenheit', 'FeelsLike_Celsius', 'FeelsLike_Fahrenheit', 'Pressure_In_Inches_of_Mercury', 'Visibility_In_Miles', 'Target_Fahrenheit', 'Target_Celsius']\n"
     ]
    }
   ],
   "source": [
    "#Getting Numerical columns \n",
    "numerical_columns = []\n",
    "\n",
    "for column in df.columns:\n",
    "    if df[column].dtype == 'int64' or df[column].dtype == 'float64':\n",
    "        numerical_columns.append(column)\n",
    "\n",
    "print(numerical_columns)"
   ]
  },
  {
   "cell_type": "code",
   "execution_count": 192,
   "id": "39db0582",
   "metadata": {},
   "outputs": [],
   "source": [
    "def calculate_mode(series):           #taking the series as input\n",
    "    return series.mode().iat[0]       #Returning the mode(most frequent value)\n",
    "\n",
    "# Group the data by \"Year\", \"Month\", and \"Day\" columns and apply the custom aggregation function\n",
    "grouped_df = df.groupby([\"Year\", \"Month\", \"Day\"]).agg({\n",
    "    \"RelativeHumidity\": \"mean\",\n",
    "    \"precipitation_rain\": \"mean\",# Calculate mean for RelativeHumidity column\n",
    "    \"Wind_Speed_MPH\": \"mean\",  # Calculate mean for Wind_Speed_MPH column\n",
    "    \"Dewpoint_Fahrenheit\": \"mean\",\n",
    "    \"Dewpoint_Celsius\": \"mean\",\n",
    "    \"FeelsLike_Fahrenheit\": \"mean\",\n",
    "    \"FeelsLike_Celsius\": \"mean\",\n",
    "    \"Pressure_In_Inches_of_Mercury\": \"mean\",\n",
    "    \"Visibility_In_Miles\": \"mean\",\n",
    "    \"CurrentConditions\": calculate_mode,\n",
    "    \"ConditionType\": calculate_mode,\n",
    "    \"CloudCondition\": calculate_mode,\n",
    "    \"MoonInfo\": calculate_mode,\n",
    "    \"Timezone\": calculate_mode,\n",
    "    \"SunInfo_Sun-UP\": calculate_mode,\n",
    "    \"Target_Fahrenheit\": \"mean\",\n",
    "    \"Target_Celsius\": \"mean\"\n",
    "    # Add more categorical columns here\n",
    "}).reset_index()\n",
    "\n"
   ]
  },
  {
   "cell_type": "code",
   "execution_count": 193,
   "id": "4b82bb0b",
   "metadata": {},
   "outputs": [
    {
     "data": {
      "text/html": [
       "<div>\n",
       "<style scoped>\n",
       "    .dataframe tbody tr th:only-of-type {\n",
       "        vertical-align: middle;\n",
       "    }\n",
       "\n",
       "    .dataframe tbody tr th {\n",
       "        vertical-align: top;\n",
       "    }\n",
       "\n",
       "    .dataframe thead th {\n",
       "        text-align: right;\n",
       "    }\n",
       "</style>\n",
       "<table border=\"1\" class=\"dataframe\">\n",
       "  <thead>\n",
       "    <tr style=\"text-align: right;\">\n",
       "      <th></th>\n",
       "      <th>Year</th>\n",
       "      <th>Month</th>\n",
       "      <th>Day</th>\n",
       "      <th>RelativeHumidity</th>\n",
       "      <th>precipitation_rain</th>\n",
       "      <th>Wind_Speed_MPH</th>\n",
       "      <th>Dewpoint_Fahrenheit</th>\n",
       "      <th>Dewpoint_Celsius</th>\n",
       "      <th>FeelsLike_Fahrenheit</th>\n",
       "      <th>FeelsLike_Celsius</th>\n",
       "      <th>Pressure_In_Inches_of_Mercury</th>\n",
       "      <th>Visibility_In_Miles</th>\n",
       "      <th>CurrentConditions</th>\n",
       "      <th>ConditionType</th>\n",
       "      <th>CloudCondition</th>\n",
       "      <th>MoonInfo</th>\n",
       "      <th>Timezone</th>\n",
       "      <th>SunInfo_Sun-UP</th>\n",
       "      <th>Target_Fahrenheit</th>\n",
       "      <th>Target_Celsius</th>\n",
       "    </tr>\n",
       "  </thead>\n",
       "  <tbody>\n",
       "    <tr>\n",
       "      <th>0</th>\n",
       "      <td>2018</td>\n",
       "      <td>5</td>\n",
       "      <td>1</td>\n",
       "      <td>0.41200</td>\n",
       "      <td>0.0</td>\n",
       "      <td>12.100</td>\n",
       "      <td>47.25</td>\n",
       "      <td>8.50</td>\n",
       "      <td>72.75</td>\n",
       "      <td>22.75</td>\n",
       "      <td>29.25</td>\n",
       "      <td>10.00</td>\n",
       "      <td>Clear Skies</td>\n",
       "      <td>Clear</td>\n",
       "      <td>Clear Skies</td>\n",
       "      <td>Full Moon</td>\n",
       "      <td>America/Chicago</td>\n",
       "      <td>True</td>\n",
       "      <td>72.75</td>\n",
       "      <td>22.75</td>\n",
       "    </tr>\n",
       "    <tr>\n",
       "      <th>1</th>\n",
       "      <td>2018</td>\n",
       "      <td>5</td>\n",
       "      <td>2</td>\n",
       "      <td>0.55175</td>\n",
       "      <td>0.0</td>\n",
       "      <td>9.775</td>\n",
       "      <td>58.50</td>\n",
       "      <td>14.75</td>\n",
       "      <td>76.50</td>\n",
       "      <td>24.75</td>\n",
       "      <td>29.00</td>\n",
       "      <td>10.00</td>\n",
       "      <td>Clear Skies</td>\n",
       "      <td>Clear</td>\n",
       "      <td>Clear Skies</td>\n",
       "      <td>Waning Gibbous</td>\n",
       "      <td>America/Chicago</td>\n",
       "      <td>True</td>\n",
       "      <td>76.50</td>\n",
       "      <td>24.75</td>\n",
       "    </tr>\n",
       "    <tr>\n",
       "      <th>2</th>\n",
       "      <td>2018</td>\n",
       "      <td>5</td>\n",
       "      <td>3</td>\n",
       "      <td>0.87450</td>\n",
       "      <td>0.0</td>\n",
       "      <td>7.500</td>\n",
       "      <td>65.00</td>\n",
       "      <td>18.50</td>\n",
       "      <td>69.25</td>\n",
       "      <td>20.75</td>\n",
       "      <td>29.00</td>\n",
       "      <td>9.25</td>\n",
       "      <td>Scattered</td>\n",
       "      <td>Cloudy</td>\n",
       "      <td>Overcast Sky</td>\n",
       "      <td>Waning Gibbous</td>\n",
       "      <td>America/Chicago</td>\n",
       "      <td>True</td>\n",
       "      <td>69.25</td>\n",
       "      <td>20.75</td>\n",
       "    </tr>\n",
       "    <tr>\n",
       "      <th>3</th>\n",
       "      <td>2018</td>\n",
       "      <td>5</td>\n",
       "      <td>4</td>\n",
       "      <td>0.64875</td>\n",
       "      <td>0.0</td>\n",
       "      <td>8.350</td>\n",
       "      <td>54.25</td>\n",
       "      <td>12.25</td>\n",
       "      <td>67.50</td>\n",
       "      <td>19.75</td>\n",
       "      <td>29.25</td>\n",
       "      <td>10.00</td>\n",
       "      <td>Clear Skies</td>\n",
       "      <td>Clear</td>\n",
       "      <td>Clear Skies</td>\n",
       "      <td>Waning Gibbous</td>\n",
       "      <td>America/Chicago</td>\n",
       "      <td>True</td>\n",
       "      <td>67.50</td>\n",
       "      <td>19.75</td>\n",
       "    </tr>\n",
       "    <tr>\n",
       "      <th>4</th>\n",
       "      <td>2018</td>\n",
       "      <td>5</td>\n",
       "      <td>5</td>\n",
       "      <td>0.49125</td>\n",
       "      <td>0.0</td>\n",
       "      <td>3.725</td>\n",
       "      <td>44.50</td>\n",
       "      <td>7.00</td>\n",
       "      <td>68.75</td>\n",
       "      <td>20.50</td>\n",
       "      <td>29.50</td>\n",
       "      <td>10.00</td>\n",
       "      <td>Clear Skies</td>\n",
       "      <td>Clear</td>\n",
       "      <td>Clear Skies</td>\n",
       "      <td>Waning Gibbous</td>\n",
       "      <td>America/Chicago</td>\n",
       "      <td>True</td>\n",
       "      <td>68.75</td>\n",
       "      <td>20.50</td>\n",
       "    </tr>\n",
       "  </tbody>\n",
       "</table>\n",
       "</div>"
      ],
      "text/plain": [
       "   Year  Month  Day  RelativeHumidity  precipitation_rain  Wind_Speed_MPH  \\\n",
       "0  2018      5    1           0.41200                 0.0          12.100   \n",
       "1  2018      5    2           0.55175                 0.0           9.775   \n",
       "2  2018      5    3           0.87450                 0.0           7.500   \n",
       "3  2018      5    4           0.64875                 0.0           8.350   \n",
       "4  2018      5    5           0.49125                 0.0           3.725   \n",
       "\n",
       "   Dewpoint_Fahrenheit  Dewpoint_Celsius  FeelsLike_Fahrenheit  \\\n",
       "0                47.25              8.50                 72.75   \n",
       "1                58.50             14.75                 76.50   \n",
       "2                65.00             18.50                 69.25   \n",
       "3                54.25             12.25                 67.50   \n",
       "4                44.50              7.00                 68.75   \n",
       "\n",
       "   FeelsLike_Celsius  Pressure_In_Inches_of_Mercury  Visibility_In_Miles  \\\n",
       "0              22.75                          29.25                10.00   \n",
       "1              24.75                          29.00                10.00   \n",
       "2              20.75                          29.00                 9.25   \n",
       "3              19.75                          29.25                10.00   \n",
       "4              20.50                          29.50                10.00   \n",
       "\n",
       "  CurrentConditions ConditionType CloudCondition        MoonInfo  \\\n",
       "0       Clear Skies         Clear    Clear Skies       Full Moon   \n",
       "1       Clear Skies         Clear    Clear Skies  Waning Gibbous   \n",
       "2         Scattered        Cloudy   Overcast Sky  Waning Gibbous   \n",
       "3       Clear Skies         Clear    Clear Skies  Waning Gibbous   \n",
       "4       Clear Skies         Clear    Clear Skies  Waning Gibbous   \n",
       "\n",
       "          Timezone SunInfo_Sun-UP  Target_Fahrenheit  Target_Celsius  \n",
       "0  America/Chicago           True              72.75           22.75  \n",
       "1  America/Chicago           True              76.50           24.75  \n",
       "2  America/Chicago           True              69.25           20.75  \n",
       "3  America/Chicago           True              67.50           19.75  \n",
       "4  America/Chicago           True              68.75           20.50  "
      ]
     },
     "execution_count": 193,
     "metadata": {},
     "output_type": "execute_result"
    }
   ],
   "source": [
    "grouped_df.head()"
   ]
  },
  {
   "cell_type": "markdown",
   "id": "2dfb68c1",
   "metadata": {},
   "source": [
    "# Exploratory Data Analysis"
   ]
  },
  {
   "cell_type": "code",
   "execution_count": 194,
   "id": "834a0900",
   "metadata": {},
   "outputs": [],
   "source": [
    "import matplotlib.pyplot as plt\n",
    "import seaborn as sns"
   ]
  },
  {
   "cell_type": "code",
   "execution_count": 195,
   "id": "089e26eb",
   "metadata": {},
   "outputs": [
    {
     "data": {
      "image/png": "[encoded data removed]",
      "text/plain": [
       "<Figure size 432x288 with 1 Axes>"
      ]
     },
     "metadata": {
      "needs_background": "light"
     },
     "output_type": "display_data"
    }
   ],
   "source": [
    "#linePlot Wind speed vs Feels Like in Fahrenheit\n",
    "sns.lineplot(data=df, x='Wind_Speed_MPH', y='FeelsLike_Fahrenheit')\n",
    "plt.xlabel('Wind Speed (MPH)')\n",
    "plt.ylabel('Feels Like (Fahrenheit)')\n",
    "plt.title('Wind Speed vs Feels Like')\n",
    "plt.show()"
   ]
  },
  {
   "cell_type": "code",
   "execution_count": 196,
   "id": "3e91f0b7",
   "metadata": {},
   "outputs": [
    {
     "data": {
      "image/png": "[encoded data removed]",
      "text/plain": [
       "<Figure size 432x288 with 1 Axes>"
      ]
     },
     "metadata": {
      "needs_background": "light"
     },
     "output_type": "display_data"
    }
   ],
   "source": [
    "# LinePlot Target Actual temparature vs feels like\n",
    "sns.lineplot(data=df, x='Target_Fahrenheit', y='FeelsLike_Fahrenheit')\n",
    "plt.xlabel('Actual Temperature (Fahrenheit)')\n",
    "plt.ylabel('Feels Like (Fahrenheit)')\n",
    "plt.title('Actual Temperature vs Feels Like')\n",
    "plt.show()"
   ]
  },
  {
   "cell_type": "code",
   "execution_count": 197,
   "id": "5ae00c94",
   "metadata": {},
   "outputs": [
    {
     "data": {
      "image/png": "[encoded data removed]",
      "text/plain": [
       "<Figure size 432x288 with 1 Axes>"
      ]
     },
     "metadata": {
      "needs_background": "light"
     },
     "output_type": "display_data"
    }
   ],
   "source": [
    "# Histogram plot distribution of duepoint.\n",
    "sns.histplot(data=df, x='Dewpoint_Fahrenheit')\n",
    "plt.xlabel('Dew Point (Fahrenheit)')\n",
    "plt.ylabel('Count')\n",
    "plt.title('Distribution of Dew Point')\n",
    "plt.show()"
   ]
  },
  {
   "cell_type": "code",
   "execution_count": 198,
   "id": "db4b80b3",
   "metadata": {},
   "outputs": [
    {
     "data": {
      "application/vnd.plotly.v1+json": {
       "config": {
        "plotlyServerURL": "https://plot.ly"
       },
       "data": [
        {
         "type": "scatter",
         "x": [
          2018,
          2019,
          2020,
          2021,
          2022,
          2023
         ],
         "y": [
          60.79212916246216,
          52.070296347346655,
          53.747747747747745,
          54.068243243243245,
          52.09256756756757,
          40.69102296450939
         ]
        }
       ],
       "layout": {
        "template": {
         "data": {
          "bar": [
           {
            "error_x": {
             "color": "#2a3f5f"
            },
            "error_y": {
             "color": "#2a3f5f"
            },
            "marker": {
             "line": {
              "color": "#E5ECF6",
              "width": 0.5
             },
             "pattern": {
              "fillmode": "overlay",
              "size": 10,
              "solidity": 0.2
             }
            },
            "type": "bar"
           }
          ],
          "barpolar": [
           {
            "marker": {
             "line": {
              "color": "#E5ECF6",
              "width": 0.5
             },
             "pattern": {
              "fillmode": "overlay",
              "size": 10,
              "solidity": 0.2
             }
            },
            "type": "barpolar"
           }
          ],
          "carpet": [
           {
            "aaxis": {
             "endlinecolor": "#2a3f5f",
             "gridcolor": "white",
             "linecolor": "white",
             "minorgridcolor": "white",
             "startlinecolor": "#2a3f5f"
            },
            "baxis": {
             "endlinecolor": "#2a3f5f",
             "gridcolor": "white",
             "linecolor": "white",
             "minorgridcolor": "white",
             "startlinecolor": "#2a3f5f"
            },
            "type": "carpet"
           }
          ],
          "choropleth": [
           {
            "colorbar": {
             "outlinewidth": 0,
             "ticks": ""
            },
            "type": "choropleth"
           }
          ],
          "contour": [
           {
            "colorbar": {
             "outlinewidth": 0,
             "ticks": ""
            },
            "colorscale": [
             [
              0,
              "#0d0887"
             ],
             [
              0.1111111111111111,
              "#46039f"
             ],
             [
              0.2222222222222222,
              "#7201a8"
             ],
             [
              0.3333333333333333,
              "#9c179e"
             ],
             [
              0.4444444444444444,
              "#bd3786"
             ],
             [
              0.5555555555555556,
              "#d8576b"
             ],
             [
              0.6666666666666666,
              "#ed7953"
             ],
             [
              0.7777777777777778,
              "#fb9f3a"
             ],
             [
              0.8888888888888888,
              "#fdca26"
             ],
             [
              1,
              "#f0f921"
             ]
            ],
            "type": "contour"
           }
          ],
          "contourcarpet": [
           {
            "colorbar": {
             "outlinewidth": 0,
             "ticks": ""
            },
            "type": "contourcarpet"
           }
          ],
          "heatmap": [
           {
            "colorbar": {
             "outlinewidth": 0,
             "ticks": ""
            },
            "colorscale": [
             [
              0,
              "#0d0887"
             ],
             [
              0.1111111111111111,
              "#46039f"
             ],
             [
              0.2222222222222222,
              "#7201a8"
             ],
             [
              0.3333333333333333,
              "#9c179e"
             ],
             [
              0.4444444444444444,
              "#bd3786"
             ],
             [
              0.5555555555555556,
              "#d8576b"
             ],
             [
              0.6666666666666666,
              "#ed7953"
             ],
             [
              0.7777777777777778,
              "#fb9f3a"
             ],
             [
              0.8888888888888888,
              "#fdca26"
             ],
             [
              1,
              "#f0f921"
             ]
            ],
            "type": "heatmap"
           }
          ],
          "heatmapgl": [
           {
            "colorbar": {
             "outlinewidth": 0,
             "ticks": ""
            },
            "colorscale": [
             [
              0,
              "#0d0887"
             ],
             [
              0.1111111111111111,
              "#46039f"
             ],
             [
              0.2222222222222222,
              "#7201a8"
             ],
             [
              0.3333333333333333,
              "#9c179e"
             ],
             [
              0.4444444444444444,
              "#bd3786"
             ],
             [
              0.5555555555555556,
              "#d8576b"
             ],
             [
              0.6666666666666666,
              "#ed7953"
             ],
             [
              0.7777777777777778,
              "#fb9f3a"
             ],
             [
              0.8888888888888888,
              "#fdca26"
             ],
             [
              1,
              "#f0f921"
             ]
            ],
            "type": "heatmapgl"
           }
          ],
          "histogram": [
           {
            "marker": {
             "pattern": {
              "fillmode": "overlay",
              "size": 10,
              "solidity": 0.2
             }
            },
            "type": "histogram"
           }
          ],
          "histogram2d": [
           {
            "colorbar": {
             "outlinewidth": 0,
             "ticks": ""
            },
            "colorscale": [
             [
              0,
              "#0d0887"
             ],
             [
              0.1111111111111111,
              "#46039f"
             ],
             [
              0.2222222222222222,
              "#7201a8"
             ],
             [
              0.3333333333333333,
              "#9c179e"
             ],
             [
              0.4444444444444444,
              "#bd3786"
             ],
             [
              0.5555555555555556,
              "#d8576b"
             ],
             [
              0.6666666666666666,
              "#ed7953"
             ],
             [
              0.7777777777777778,
              "#fb9f3a"
             ],
             [
              0.8888888888888888,
              "#fdca26"
             ],
             [
              1,
              "#f0f921"
             ]
            ],
            "type": "histogram2d"
           }
          ],
          "histogram2dcontour": [
           {
            "colorbar": {
             "outlinewidth": 0,
             "ticks": ""
            },
            "colorscale": [
             [
              0,
              "#0d0887"
             ],
             [
              0.1111111111111111,
              "#46039f"
             ],
             [
              0.2222222222222222,
              "#7201a8"
             ],
             [
              0.3333333333333333,
              "#9c179e"
             ],
             [
              0.4444444444444444,
              "#bd3786"
             ],
             [
              0.5555555555555556,
              "#d8576b"
             ],
             [
              0.6666666666666666,
              "#ed7953"
             ],
             [
              0.7777777777777778,
              "#fb9f3a"
             ],
             [
              0.8888888888888888,
              "#fdca26"
             ],
             [
              1,
              "#f0f921"
             ]
            ],
            "type": "histogram2dcontour"
           }
          ],
          "mesh3d": [
           {
            "colorbar": {
             "outlinewidth": 0,
             "ticks": ""
            },
            "type": "mesh3d"
           }
          ],
          "parcoords": [
           {
            "line": {
             "colorbar": {
              "outlinewidth": 0,
              "ticks": ""
             }
            },
            "type": "parcoords"
           }
          ],
          "pie": [
           {
            "automargin": true,
            "type": "pie"
           }
          ],
          "scatter": [
           {
            "marker": {
             "colorbar": {
              "outlinewidth": 0,
              "ticks": ""
             }
            },
            "type": "scatter"
           }
          ],
          "scatter3d": [
           {
            "line": {
             "colorbar": {
              "outlinewidth": 0,
              "ticks": ""
             }
            },
            "marker": {
             "colorbar": {
              "outlinewidth": 0,
              "ticks": ""
             }
            },
            "type": "scatter3d"
           }
          ],
          "scattercarpet": [
           {
            "marker": {
             "colorbar": {
              "outlinewidth": 0,
              "ticks": ""
             }
            },
            "type": "scattercarpet"
           }
          ],
          "scattergeo": [
           {
            "marker": {
             "colorbar": {
              "outlinewidth": 0,
              "ticks": ""
             }
            },
            "type": "scattergeo"
           }
          ],
          "scattergl": [
           {
            "marker": {
             "colorbar": {
              "outlinewidth": 0,
              "ticks": ""
             }
            },
            "type": "scattergl"
           }
          ],
          "scattermapbox": [
           {
            "marker": {
             "colorbar": {
              "outlinewidth": 0,
              "ticks": ""
             }
            },
            "type": "scattermapbox"
           }
          ],
          "scatterpolar": [
           {
            "marker": {
             "colorbar": {
              "outlinewidth": 0,
              "ticks": ""
             }
            },
            "type": "scatterpolar"
           }
          ],
          "scatterpolargl": [
           {
            "marker": {
             "colorbar": {
              "outlinewidth": 0,
              "ticks": ""
             }
            },
            "type": "scatterpolargl"
           }
          ],
          "scatterternary": [
           {
            "marker": {
             "colorbar": {
              "outlinewidth": 0,
              "ticks": ""
             }
            },
            "type": "scatterternary"
           }
          ],
          "surface": [
           {
            "colorbar": {
             "outlinewidth": 0,
             "ticks": ""
            },
            "colorscale": [
             [
              0,
              "#0d0887"
             ],
             [
              0.1111111111111111,
              "#46039f"
             ],
             [
              0.2222222222222222,
              "#7201a8"
             ],
             [
              0.3333333333333333,
              "#9c179e"
             ],
             [
              0.4444444444444444,
              "#bd3786"
             ],
             [
              0.5555555555555556,
              "#d8576b"
             ],
             [
              0.6666666666666666,
              "#ed7953"
             ],
             [
              0.7777777777777778,
              "#fb9f3a"
             ],
             [
              0.8888888888888888,
              "#fdca26"
             ],
             [
              1,
              "#f0f921"
             ]
            ],
            "type": "surface"
           }
          ],
          "table": [
           {
            "cells": {
             "fill": {
              "color": "#EBF0F8"
             },
             "line": {
              "color": "white"
             }
            },
            "header": {
             "fill": {
              "color": "#C8D4E3"
             },
             "line": {
              "color": "white"
             }
            },
            "type": "table"
           }
          ]
         },
         "layout": {
          "annotationdefaults": {
           "arrowcolor": "#2a3f5f",
           "arrowhead": 0,
           "arrowwidth": 1
          },
          "autotypenumbers": "strict",
          "coloraxis": {
           "colorbar": {
            "outlinewidth": 0,
            "ticks": ""
           }
          },
          "colorscale": {
           "diverging": [
            [
             0,
             "#8e0152"
            ],
            [
             0.1,
             "#c51b7d"
            ],
            [
             0.2,
             "#de77ae"
            ],
            [
             0.3,
             "#f1b6da"
            ],
            [
             0.4,
             "#fde0ef"
            ],
            [
             0.5,
             "#f7f7f7"
            ],
            [
             0.6,
             "#e6f5d0"
            ],
            [
             0.7,
             "#b8e186"
            ],
            [
             0.8,
             "#7fbc41"
            ],
            [
             0.9,
             "#4d9221"
            ],
            [
             1,
             "#276419"
            ]
           ],
           "sequential": [
            [
             0,
             "#0d0887"
            ],
            [
             0.1111111111111111,
             "#46039f"
            ],
            [
             0.2222222222222222,
             "#7201a8"
            ],
            [
             0.3333333333333333,
             "#9c179e"
            ],
            [
             0.4444444444444444,
             "#bd3786"
            ],
            [
             0.5555555555555556,
             "#d8576b"
            ],
            [
             0.6666666666666666,
             "#ed7953"
            ],
            [
             0.7777777777777778,
             "#fb9f3a"
            ],
            [
             0.8888888888888888,
             "#fdca26"
            ],
            [
             1,
             "#f0f921"
            ]
           ],
           "sequentialminus": [
            [
             0,
             "#0d0887"
            ],
            [
             0.1111111111111111,
             "#46039f"
            ],
            [
             0.2222222222222222,
             "#7201a8"
            ],
            [
             0.3333333333333333,
             "#9c179e"
            ],
            [
             0.4444444444444444,
             "#bd3786"
            ],
            [
             0.5555555555555556,
             "#d8576b"
            ],
            [
             0.6666666666666666,
             "#ed7953"
            ],
            [
             0.7777777777777778,
             "#fb9f3a"
            ],
            [
             0.8888888888888888,
             "#fdca26"
            ],
            [
             1,
             "#f0f921"
            ]
           ]
          },
          "colorway": [
           "#636efa",
           "#EF553B",
           "#00cc96",
           "#ab63fa",
           "#FFA15A",
           "#19d3f3",
           "#FF6692",
           "#B6E880",
           "#FF97FF",
           "#FECB52"
          ],
          "font": {
           "color": "#2a3f5f"
          },
          "geo": {
           "bgcolor": "white",
           "lakecolor": "white",
           "landcolor": "#E5ECF6",
           "showlakes": true,
           "showland": true,
           "subunitcolor": "white"
          },
          "hoverlabel": {
           "align": "left"
          },
          "hovermode": "closest",
          "mapbox": {
           "style": "light"
          },
          "paper_bgcolor": "white",
          "plot_bgcolor": "#E5ECF6",
          "polar": {
           "angularaxis": {
            "gridcolor": "white",
            "linecolor": "white",
            "ticks": ""
           },
           "bgcolor": "#E5ECF6",
           "radialaxis": {
            "gridcolor": "white",
            "linecolor": "white",
            "ticks": ""
           }
          },
          "scene": {
           "xaxis": {
            "backgroundcolor": "#E5ECF6",
            "gridcolor": "white",
            "gridwidth": 2,
            "linecolor": "white",
            "showbackground": true,
            "ticks": "",
            "zerolinecolor": "white"
           },
           "yaxis": {
            "backgroundcolor": "#E5ECF6",
            "gridcolor": "white",
            "gridwidth": 2,
            "linecolor": "white",
            "showbackground": true,
            "ticks": "",
            "zerolinecolor": "white"
           },
           "zaxis": {
            "backgroundcolor": "#E5ECF6",
            "gridcolor": "white",
            "gridwidth": 2,
            "linecolor": "white",
            "showbackground": true,
            "ticks": "",
            "zerolinecolor": "white"
           }
          },
          "shapedefaults": {
           "line": {
            "color": "#2a3f5f"
           }
          },
          "ternary": {
           "aaxis": {
            "gridcolor": "white",
            "linecolor": "white",
            "ticks": ""
           },
           "baxis": {
            "gridcolor": "white",
            "linecolor": "white",
            "ticks": ""
           },
           "bgcolor": "#E5ECF6",
           "caxis": {
            "gridcolor": "white",
            "linecolor": "white",
            "ticks": ""
           }
          },
          "title": {
           "x": 0.05
          },
          "xaxis": {
           "automargin": true,
           "gridcolor": "white",
           "linecolor": "white",
           "ticks": "",
           "title": {
            "standoff": 15
           },
           "zerolinecolor": "white",
           "zerolinewidth": 2
          },
          "yaxis": {
           "automargin": true,
           "gridcolor": "white",
           "linecolor": "white",
           "ticks": "",
           "title": {
            "standoff": 15
           },
           "zerolinecolor": "white",
           "zerolinewidth": 2
          }
         }
        },
        "title": {
         "text": "Average Temperature by Year"
        },
        "xaxis": {
         "title": {
          "text": "Year"
         }
        },
        "yaxis": {
         "title": {
          "text": "Temperature (Fahrenheit)"
         }
        }
       }
      },
      "text/html": [
       "<div>                            <div id=\"7eaff2e0-6197-4771-984c-a43e9dc0fa4b\" class=\"plotly-graph-div\" style=\"height:525px; width:100%;\"></div>            <script type=\"text/javascript\">                require([\"plotly\"], function(Plotly) {                    window.PLOTLYENV=window.PLOTLYENV || {};                                    if (document.getElementById(\"7eaff2e0-6197-4771-984c-a43e9dc0fa4b\")) {                    Plotly.newPlot(                        \"7eaff2e0-6197-4771-984c-a43e9dc0fa4b\",                        [{\"x\":[2018,2019,2020,2021,2022,2023],\"y\":[60.79212916246216,52.070296347346655,53.747747747747745,54.068243243243245,52.09256756756757,40.69102296450939],\"type\":\"scatter\"}],                        {\"template\":{\"data\":{\"bar\":[{\"error_x\":{\"color\":\"#2a3f5f\"},\"error_y\":{\"color\":\"#2a3f5f\"},\"marker\":{\"line\":{\"color\":\"#E5ECF6\",\"width\":0.5},\"pattern\":{\"fillmode\":\"overlay\",\"size\":10,\"solidity\":0.2}},\"type\":\"bar\"}],\"barpolar\":[{\"marker\":{\"line\":{\"color\":\"#E5ECF6\",\"width\":0.5},\"pattern\":{\"fillmode\":\"overlay\",\"size\":10,\"solidity\":0.2}},\"type\":\"barpolar\"}],\"carpet\":[{\"aaxis\":{\"endlinecolor\":\"#2a3f5f\",\"gridcolor\":\"white\",\"linecolor\":\"white\",\"minorgridcolor\":\"white\",\"startlinecolor\":\"#2a3f5f\"},\"baxis\":{\"endlinecolor\":\"#2a3f5f\",\"gridcolor\":\"white\",\"linecolor\":\"white\",\"minorgridcolor\":\"white\",\"startlinecolor\":\"#2a3f5f\"},\"type\":\"carpet\"}],\"choropleth\":[{\"colorbar\":{\"outlinewidth\":0,\"ticks\":\"\"},\"type\":\"choropleth\"}],\"contour\":[{\"colorbar\":{\"outlinewidth\":0,\"ticks\":\"\"},\"colorscale\":[[0.0,\"#0d0887\"],[0.1111111111111111,\"#46039f\"],[0.2222222222222222,\"#7201a8\"],[0.3333333333333333,\"#9c179e\"],[0.4444444444444444,\"#bd3786\"],[0.5555555555555556,\"#d8576b\"],[0.6666666666666666,\"#ed7953\"],[0.7777777777777778,\"#fb9f3a\"],[0.8888888888888888,\"#fdca26\"],[1.0,\"#f0f921\"]],\"type\":\"contour\"}],\"contourcarpet\":[{\"colorbar\":{\"outlinewidth\":0,\"ticks\":\"\"},\"type\":\"contourcarpet\"}],\"heatmap\":[{\"colorbar\":{\"outlinewidth\":0,\"ticks\":\"\"},\"colorscale\":[[0.0,\"#0d0887\"],[0.1111111111111111,\"#46039f\"],[0.2222222222222222,\"#7201a8\"],[0.3333333333333333,\"#9c179e\"],[0.4444444444444444,\"#bd3786\"],[0.5555555555555556,\"#d8576b\"],[0.6666666666666666,\"#ed7953\"],[0.7777777777777778,\"#fb9f3a\"],[0.8888888888888888,\"#fdca26\"],[1.0,\"#f0f921\"]],\"type\":\"heatmap\"}],\"heatmapgl\":[{\"colorbar\":{\"outlinewidth\":0,\"ticks\":\"\"},\"colorscale\":[[0.0,\"#0d0887\"],[0.1111111111111111,\"#46039f\"],[0.2222222222222222,\"#7201a8\"],[0.3333333333333333,\"#9c179e\"],[0.4444444444444444,\"#bd3786\"],[0.5555555555555556,\"#d8576b\"],[0.6666666666666666,\"#ed7953\"],[0.7777777777777778,\"#fb9f3a\"],[0.8888888888888888,\"#fdca26\"],[1.0,\"#f0f921\"]],\"type\":\"heatmapgl\"}],\"histogram\":[{\"marker\":{\"pattern\":{\"fillmode\":\"overlay\",\"size\":10,\"solidity\":0.2}},\"type\":\"histogram\"}],\"histogram2d\":[{\"colorbar\":{\"outlinewidth\":0,\"ticks\":\"\"},\"colorscale\":[[0.0,\"#0d0887\"],[0.1111111111111111,\"#46039f\"],[0.2222222222222222,\"#7201a8\"],[0.3333333333333333,\"#9c179e\"],[0.4444444444444444,\"#bd3786\"],[0.5555555555555556,\"#d8576b\"],[0.6666666666666666,\"#ed7953\"],[0.7777777777777778,\"#fb9f3a\"],[0.8888888888888888,\"#fdca26\"],[1.0,\"#f0f921\"]],\"type\":\"histogram2d\"}],\"histogram2dcontour\":[{\"colorbar\":{\"outlinewidth\":0,\"ticks\":\"\"},\"colorscale\":[[0.0,\"#0d0887\"],[0.1111111111111111,\"#46039f\"],[0.2222222222222222,\"#7201a8\"],[0.3333333333333333,\"#9c179e\"],[0.4444444444444444,\"#bd3786\"],[0.5555555555555556,\"#d8576b\"],[0.6666666666666666,\"#ed7953\"],[0.7777777777777778,\"#fb9f3a\"],[0.8888888888888888,\"#fdca26\"],[1.0,\"#f0f921\"]],\"type\":\"histogram2dcontour\"}],\"mesh3d\":[{\"colorbar\":{\"outlinewidth\":0,\"ticks\":\"\"},\"type\":\"mesh3d\"}],\"parcoords\":[{\"line\":{\"colorbar\":{\"outlinewidth\":0,\"ticks\":\"\"}},\"type\":\"parcoords\"}],\"pie\":[{\"automargin\":true,\"type\":\"pie\"}],\"scatter\":[{\"marker\":{\"colorbar\":{\"outlinewidth\":0,\"ticks\":\"\"}},\"type\":\"scatter\"}],\"scatter3d\":[{\"line\":{\"colorbar\":{\"outlinewidth\":0,\"ticks\":\"\"}},\"marker\":{\"colorbar\":{\"outlinewidth\":0,\"ticks\":\"\"}},\"type\":\"scatter3d\"}],\"scattercarpet\":[{\"marker\":{\"colorbar\":{\"outlinewidth\":0,\"ticks\":\"\"}},\"type\":\"scattercarpet\"}],\"scattergeo\":[{\"marker\":{\"colorbar\":{\"outlinewidth\":0,\"ticks\":\"\"}},\"type\":\"scattergeo\"}],\"scattergl\":[{\"marker\":{\"colorbar\":{\"outlinewidth\":0,\"ticks\":\"\"}},\"type\":\"scattergl\"}],\"scattermapbox\":[{\"marker\":{\"colorbar\":{\"outlinewidth\":0,\"ticks\":\"\"}},\"type\":\"scattermapbox\"}],\"scatterpolar\":[{\"marker\":{\"colorbar\":{\"outlinewidth\":0,\"ticks\":\"\"}},\"type\":\"scatterpolar\"}],\"scatterpolargl\":[{\"marker\":{\"colorbar\":{\"outlinewidth\":0,\"ticks\":\"\"}},\"type\":\"scatterpolargl\"}],\"scatterternary\":[{\"marker\":{\"colorbar\":{\"outlinewidth\":0,\"ticks\":\"\"}},\"type\":\"scatterternary\"}],\"surface\":[{\"colorbar\":{\"outlinewidth\":0,\"ticks\":\"\"},\"colorscale\":[[0.0,\"#0d0887\"],[0.1111111111111111,\"#46039f\"],[0.2222222222222222,\"#7201a8\"],[0.3333333333333333,\"#9c179e\"],[0.4444444444444444,\"#bd3786\"],[0.5555555555555556,\"#d8576b\"],[0.6666666666666666,\"#ed7953\"],[0.7777777777777778,\"#fb9f3a\"],[0.8888888888888888,\"#fdca26\"],[1.0,\"#f0f921\"]],\"type\":\"surface\"}],\"table\":[{\"cells\":{\"fill\":{\"color\":\"#EBF0F8\"},\"line\":{\"color\":\"white\"}},\"header\":{\"fill\":{\"color\":\"#C8D4E3\"},\"line\":{\"color\":\"white\"}},\"type\":\"table\"}]},\"layout\":{\"annotationdefaults\":{\"arrowcolor\":\"#2a3f5f\",\"arrowhead\":0,\"arrowwidth\":1},\"autotypenumbers\":\"strict\",\"coloraxis\":{\"colorbar\":{\"outlinewidth\":0,\"ticks\":\"\"}},\"colorscale\":{\"diverging\":[[0,\"#8e0152\"],[0.1,\"#c51b7d\"],[0.2,\"#de77ae\"],[0.3,\"#f1b6da\"],[0.4,\"#fde0ef\"],[0.5,\"#f7f7f7\"],[0.6,\"#e6f5d0\"],[0.7,\"#b8e186\"],[0.8,\"#7fbc41\"],[0.9,\"#4d9221\"],[1,\"#276419\"]],\"sequential\":[[0.0,\"#0d0887\"],[0.1111111111111111,\"#46039f\"],[0.2222222222222222,\"#7201a8\"],[0.3333333333333333,\"#9c179e\"],[0.4444444444444444,\"#bd3786\"],[0.5555555555555556,\"#d8576b\"],[0.6666666666666666,\"#ed7953\"],[0.7777777777777778,\"#fb9f3a\"],[0.8888888888888888,\"#fdca26\"],[1.0,\"#f0f921\"]],\"sequentialminus\":[[0.0,\"#0d0887\"],[0.1111111111111111,\"#46039f\"],[0.2222222222222222,\"#7201a8\"],[0.3333333333333333,\"#9c179e\"],[0.4444444444444444,\"#bd3786\"],[0.5555555555555556,\"#d8576b\"],[0.6666666666666666,\"#ed7953\"],[0.7777777777777778,\"#fb9f3a\"],[0.8888888888888888,\"#fdca26\"],[1.0,\"#f0f921\"]]},\"colorway\":[\"#636efa\",\"#EF553B\",\"#00cc96\",\"#ab63fa\",\"#FFA15A\",\"#19d3f3\",\"#FF6692\",\"#B6E880\",\"#FF97FF\",\"#FECB52\"],\"font\":{\"color\":\"#2a3f5f\"},\"geo\":{\"bgcolor\":\"white\",\"lakecolor\":\"white\",\"landcolor\":\"#E5ECF6\",\"showlakes\":true,\"showland\":true,\"subunitcolor\":\"white\"},\"hoverlabel\":{\"align\":\"left\"},\"hovermode\":\"closest\",\"mapbox\":{\"style\":\"light\"},\"paper_bgcolor\":\"white\",\"plot_bgcolor\":\"#E5ECF6\",\"polar\":{\"angularaxis\":{\"gridcolor\":\"white\",\"linecolor\":\"white\",\"ticks\":\"\"},\"bgcolor\":\"#E5ECF6\",\"radialaxis\":{\"gridcolor\":\"white\",\"linecolor\":\"white\",\"ticks\":\"\"}},\"scene\":{\"xaxis\":{\"backgroundcolor\":\"#E5ECF6\",\"gridcolor\":\"white\",\"gridwidth\":2,\"linecolor\":\"white\",\"showbackground\":true,\"ticks\":\"\",\"zerolinecolor\":\"white\"},\"yaxis\":{\"backgroundcolor\":\"#E5ECF6\",\"gridcolor\":\"white\",\"gridwidth\":2,\"linecolor\":\"white\",\"showbackground\":true,\"ticks\":\"\",\"zerolinecolor\":\"white\"},\"zaxis\":{\"backgroundcolor\":\"#E5ECF6\",\"gridcolor\":\"white\",\"gridwidth\":2,\"linecolor\":\"white\",\"showbackground\":true,\"ticks\":\"\",\"zerolinecolor\":\"white\"}},\"shapedefaults\":{\"line\":{\"color\":\"#2a3f5f\"}},\"ternary\":{\"aaxis\":{\"gridcolor\":\"white\",\"linecolor\":\"white\",\"ticks\":\"\"},\"baxis\":{\"gridcolor\":\"white\",\"linecolor\":\"white\",\"ticks\":\"\"},\"bgcolor\":\"#E5ECF6\",\"caxis\":{\"gridcolor\":\"white\",\"linecolor\":\"white\",\"ticks\":\"\"}},\"title\":{\"x\":0.05},\"xaxis\":{\"automargin\":true,\"gridcolor\":\"white\",\"linecolor\":\"white\",\"ticks\":\"\",\"title\":{\"standoff\":15},\"zerolinecolor\":\"white\",\"zerolinewidth\":2},\"yaxis\":{\"automargin\":true,\"gridcolor\":\"white\",\"linecolor\":\"white\",\"ticks\":\"\",\"title\":{\"standoff\":15},\"zerolinecolor\":\"white\",\"zerolinewidth\":2}}},\"xaxis\":{\"title\":{\"text\":\"Year\"}},\"yaxis\":{\"title\":{\"text\":\"Temperature (Fahrenheit)\"}},\"title\":{\"text\":\"Average Temperature by Year\"}},                        {\"responsive\": true}                    ).then(function(){\n",
       "                            \n",
       "var gd = document.getElementById('7eaff2e0-6197-4771-984c-a43e9dc0fa4b');\n",
       "var x = new MutationObserver(function (mutations, observer) {{\n",
       "        var display = window.getComputedStyle(gd).display;\n",
       "        if (!display || display === 'none') {{\n",
       "            console.log([gd, 'removed!']);\n",
       "            Plotly.purge(gd);\n",
       "            observer.disconnect();\n",
       "        }}\n",
       "}});\n",
       "\n",
       "// Listen for the removal of the full notebook cells\n",
       "var notebookContainer = gd.closest('#notebook-container');\n",
       "if (notebookContainer) {{\n",
       "    x.observe(notebookContainer, {childList: true});\n",
       "}}\n",
       "\n",
       "// Listen for the clearing of the current output cell\n",
       "var outputEl = gd.closest('.output');\n",
       "if (outputEl) {{\n",
       "    x.observe(outputEl, {childList: true});\n",
       "}}\n",
       "\n",
       "                        })                };                });            </script>        </div>"
      ]
     },
     "metadata": {},
     "output_type": "display_data"
    }
   ],
   "source": [
    "#Plot to show Avergage Temperature by Year.\n",
    "import plotly.graph_objects as go\n",
    "\n",
    "yearly_temperatures = df.groupby(\"Year\")[\"Target_Fahrenheit\"].mean()\n",
    "\n",
    "# Create the line plot\n",
    "fig = go.Figure(data=go.Scatter(x=yearly_temperatures.index, y=yearly_temperatures.values))\n",
    "\n",
    "# Set the axis labels and title\n",
    "fig.update_layout(\n",
    "    xaxis_title=\"Year\",\n",
    "    yaxis_title=\"Temperature (Fahrenheit)\",\n",
    "    title=\"Average Temperature by Year\"\n",
    ")\n",
    "\n",
    "# Display the plot\n",
    "fig.show()"
   ]
  },
  {
   "cell_type": "code",
   "execution_count": 199,
   "id": "a9634e96",
   "metadata": {},
   "outputs": [
    {
     "data": {
      "image/png": "[encoded data removed]",
      "text/plain": [
       "<Figure size 432x288 with 1 Axes>"
      ]
     },
     "metadata": {
      "needs_background": "light"
     },
     "output_type": "display_data"
    }
   ],
   "source": [
    "#"
   ]
  },
  {
   "cell_type": "code",
   "execution_count": 200,
   "id": "a1a2f85c",
   "metadata": {},
   "outputs": [
    {
     "data": {
      "image/png": "[encoded data removed]",
      "text/plain": [
       "<Figure size 432x288 with 1 Axes>"
      ]
     },
     "metadata": {
      "needs_background": "light"
     },
     "output_type": "display_data"
    }
   ],
   "source": [
    "# Histogram plot to display the temprature distribution.\n",
    "sns.histplot(data=df, x=\"Target_Fahrenheit\", kde=True)\n",
    "\n",
    "# Set the axis labels and title\n",
    "plt.xlabel('Temperature (Fahrenheit)')\n",
    "plt.ylabel('Count')\n",
    "plt.title('Temperature Distribution')\n",
    "\n",
    "# Display the plot\n",
    "plt.show()"
   ]
  },
  {
   "cell_type": "code",
   "execution_count": 201,
   "id": "b83dd797",
   "metadata": {},
   "outputs": [
    {
     "data": {
      "image/png": "[encoded data removed]",
      "text/plain": [
       "<Figure size 2880x2160 with 16 Axes>"
      ]
     },
     "metadata": {
      "needs_background": "light"
     },
     "output_type": "display_data"
    }
   ],
   "source": [
    "#histogram of Group by df.\n",
    "grouped_df.hist(bins=20, figsize=(40,30))\n",
    "plt.show()"
   ]
  },
  {
   "cell_type": "code",
   "execution_count": 202,
   "id": "47c260f7",
   "metadata": {},
   "outputs": [
    {
     "data": {
      "text/html": [
       "<div>\n",
       "<style scoped>\n",
       "    .dataframe tbody tr th:only-of-type {\n",
       "        vertical-align: middle;\n",
       "    }\n",
       "\n",
       "    .dataframe tbody tr th {\n",
       "        vertical-align: top;\n",
       "    }\n",
       "\n",
       "    .dataframe thead th {\n",
       "        text-align: right;\n",
       "    }\n",
       "</style>\n",
       "<table border=\"1\" class=\"dataframe\">\n",
       "  <thead>\n",
       "    <tr style=\"text-align: right;\">\n",
       "      <th></th>\n",
       "      <th>Year</th>\n",
       "      <th>Month</th>\n",
       "      <th>Day</th>\n",
       "      <th>RelativeHumidity</th>\n",
       "      <th>precipitation_rain</th>\n",
       "      <th>Wind_Speed_MPH</th>\n",
       "      <th>Dewpoint_Fahrenheit</th>\n",
       "      <th>Dewpoint_Celsius</th>\n",
       "      <th>FeelsLike_Fahrenheit</th>\n",
       "      <th>FeelsLike_Celsius</th>\n",
       "      <th>Pressure_In_Inches_of_Mercury</th>\n",
       "      <th>Visibility_In_Miles</th>\n",
       "      <th>CurrentConditions</th>\n",
       "      <th>ConditionType</th>\n",
       "      <th>CloudCondition</th>\n",
       "      <th>MoonInfo</th>\n",
       "      <th>Timezone</th>\n",
       "      <th>SunInfo_Sun-UP</th>\n",
       "      <th>Target_Fahrenheit</th>\n",
       "      <th>Target_Celsius</th>\n",
       "    </tr>\n",
       "  </thead>\n",
       "  <tbody>\n",
       "    <tr>\n",
       "      <th>0</th>\n",
       "      <td>2018</td>\n",
       "      <td>5</td>\n",
       "      <td>1</td>\n",
       "      <td>0.41200</td>\n",
       "      <td>0.0</td>\n",
       "      <td>12.100</td>\n",
       "      <td>47.25</td>\n",
       "      <td>8.50</td>\n",
       "      <td>72.75</td>\n",
       "      <td>22.75</td>\n",
       "      <td>29.25</td>\n",
       "      <td>10.00</td>\n",
       "      <td>Clear Skies</td>\n",
       "      <td>Clear</td>\n",
       "      <td>Clear Skies</td>\n",
       "      <td>Full Moon</td>\n",
       "      <td>America/Chicago</td>\n",
       "      <td>True</td>\n",
       "      <td>72.75</td>\n",
       "      <td>22.75</td>\n",
       "    </tr>\n",
       "    <tr>\n",
       "      <th>1</th>\n",
       "      <td>2018</td>\n",
       "      <td>5</td>\n",
       "      <td>2</td>\n",
       "      <td>0.55175</td>\n",
       "      <td>0.0</td>\n",
       "      <td>9.775</td>\n",
       "      <td>58.50</td>\n",
       "      <td>14.75</td>\n",
       "      <td>76.50</td>\n",
       "      <td>24.75</td>\n",
       "      <td>29.00</td>\n",
       "      <td>10.00</td>\n",
       "      <td>Clear Skies</td>\n",
       "      <td>Clear</td>\n",
       "      <td>Clear Skies</td>\n",
       "      <td>Waning Gibbous</td>\n",
       "      <td>America/Chicago</td>\n",
       "      <td>True</td>\n",
       "      <td>76.50</td>\n",
       "      <td>24.75</td>\n",
       "    </tr>\n",
       "    <tr>\n",
       "      <th>2</th>\n",
       "      <td>2018</td>\n",
       "      <td>5</td>\n",
       "      <td>3</td>\n",
       "      <td>0.87450</td>\n",
       "      <td>0.0</td>\n",
       "      <td>7.500</td>\n",
       "      <td>65.00</td>\n",
       "      <td>18.50</td>\n",
       "      <td>69.25</td>\n",
       "      <td>20.75</td>\n",
       "      <td>29.00</td>\n",
       "      <td>9.25</td>\n",
       "      <td>Scattered</td>\n",
       "      <td>Cloudy</td>\n",
       "      <td>Overcast Sky</td>\n",
       "      <td>Waning Gibbous</td>\n",
       "      <td>America/Chicago</td>\n",
       "      <td>True</td>\n",
       "      <td>69.25</td>\n",
       "      <td>20.75</td>\n",
       "    </tr>\n",
       "  </tbody>\n",
       "</table>\n",
       "</div>"
      ],
      "text/plain": [
       "   Year  Month  Day  RelativeHumidity  precipitation_rain  Wind_Speed_MPH  \\\n",
       "0  2018      5    1           0.41200                 0.0          12.100   \n",
       "1  2018      5    2           0.55175                 0.0           9.775   \n",
       "2  2018      5    3           0.87450                 0.0           7.500   \n",
       "\n",
       "   Dewpoint_Fahrenheit  Dewpoint_Celsius  FeelsLike_Fahrenheit  \\\n",
       "0                47.25              8.50                 72.75   \n",
       "1                58.50             14.75                 76.50   \n",
       "2                65.00             18.50                 69.25   \n",
       "\n",
       "   FeelsLike_Celsius  Pressure_In_Inches_of_Mercury  Visibility_In_Miles  \\\n",
       "0              22.75                          29.25                10.00   \n",
       "1              24.75                          29.00                10.00   \n",
       "2              20.75                          29.00                 9.25   \n",
       "\n",
       "  CurrentConditions ConditionType CloudCondition        MoonInfo  \\\n",
       "0       Clear Skies         Clear    Clear Skies       Full Moon   \n",
       "1       Clear Skies         Clear    Clear Skies  Waning Gibbous   \n",
       "2         Scattered        Cloudy   Overcast Sky  Waning Gibbous   \n",
       "\n",
       "          Timezone SunInfo_Sun-UP  Target_Fahrenheit  Target_Celsius  \n",
       "0  America/Chicago           True              72.75           22.75  \n",
       "1  America/Chicago           True              76.50           24.75  \n",
       "2  America/Chicago           True              69.25           20.75  "
      ]
     },
     "execution_count": 202,
     "metadata": {},
     "output_type": "execute_result"
    }
   ],
   "source": [
    "grouped_df.head(3)"
   ]
  },
  {
   "cell_type": "code",
   "execution_count": 203,
   "id": "9f8d99f0",
   "metadata": {},
   "outputs": [
    {
     "data": {
      "application/vnd.plotly.v1+json": {
       "config": {
        "plotlyServerURL": "https://plot.ly"
       },
       "data": [
        {
         "mode": "lines",
         "name": "Average Temperature (Fahrenheit)",
         "type": "scatter",
         "x": [
          2018,
          2019,
          2020,
          2021,
          2022,
          2023
         ],
         "y": [
          60.685450819672134,
          51.69974677716392,
          53.608173716413944,
          54.00491932310114,
          52.1348878394333,
          40.92673611111112
         ]
        },
        {
         "mode": "lines",
         "name": "RelativeHumidity",
         "type": "scatter",
         "x": [
          2018,
          2019,
          2020,
          2021,
          2022,
          2023
         ],
         "y": [
          0.7688900273224046,
          0.7773619935543283,
          0.7216336326150571,
          0.7271470287288473,
          0.7105922733831832,
          0.7057020833333335
         ]
        },
        {
         "mode": "lines",
         "name": "precipitation_rain",
         "type": "scatter",
         "x": [
          2018,
          2019,
          2020,
          2021,
          2022,
          2023
         ],
         "y": [
          0,
          0.0075276243093922515,
          0.03863128491620116,
          0.005206611570247937,
          0.01877607241243603,
          0.007125000000000005
         ]
        },
        {
         "mode": "lines",
         "name": "Wind_Speed_MPH",
         "type": "scatter",
         "x": [
          2018,
          2019,
          2020,
          2021,
          2022,
          2023
         ],
         "y": [
          5.291427595628411,
          6.015036832412527,
          5.750154961425913,
          5.542390791027148,
          6.319803882985704,
          7.255729166666669
         ]
        },
        {
         "mode": "lines",
         "name": "Dewpoint_Fahrenheit",
         "type": "scatter",
         "x": [
          2018,
          2019,
          2020,
          2021,
          2022,
          2023
         ],
         "y": [
          52.252732240437155,
          44.2588525132275,
          43.69217877094972,
          44.72740740740741,
          42.281137053159206,
          31.169467787114844
         ]
        },
        {
         "mode": "lines",
         "name": "FeelsLike_Fahrenheit",
         "type": "scatter",
         "x": [
          2018,
          2019,
          2020,
          2021,
          2022,
          2023
         ],
         "y": [
          60.33811475409836,
          50.366875000000014,
          52.22577813248205,
          53.30242724867723,
          50.68216931216932,
          37.44375
         ]
        },
        {
         "mode": "lines",
         "name": "Pressure_In_Inches_of_Mercury",
         "type": "scatter",
         "x": [
          2018,
          2019,
          2020,
          2021,
          2022,
          2023
         ],
         "y": [
          29.562158469945356,
          29.54467245461721,
          29.55896358543417,
          29.575757575757574,
          29.545670995670992,
          29.479166666666668
         ]
        },
        {
         "mode": "lines",
         "name": "Visibility_In_Miles",
         "type": "scatter",
         "x": [
          2018,
          2019,
          2020,
          2021,
          2022,
          2023
         ],
         "y": [
          8.927254098360656,
          9.008977900552486,
          9.152001862197395,
          9.118870523415978,
          9.178414010232192,
          9.080208333333333
         ]
        }
       ],
       "layout": {
        "showlegend": true,
        "template": {
         "data": {
          "bar": [
           {
            "error_x": {
             "color": "#2a3f5f"
            },
            "error_y": {
             "color": "#2a3f5f"
            },
            "marker": {
             "line": {
              "color": "#E5ECF6",
              "width": 0.5
             },
             "pattern": {
              "fillmode": "overlay",
              "size": 10,
              "solidity": 0.2
             }
            },
            "type": "bar"
           }
          ],
          "barpolar": [
           {
            "marker": {
             "line": {
              "color": "#E5ECF6",
              "width": 0.5
             },
             "pattern": {
              "fillmode": "overlay",
              "size": 10,
              "solidity": 0.2
             }
            },
            "type": "barpolar"
           }
          ],
          "carpet": [
           {
            "aaxis": {
             "endlinecolor": "#2a3f5f",
             "gridcolor": "white",
             "linecolor": "white",
             "minorgridcolor": "white",
             "startlinecolor": "#2a3f5f"
            },
            "baxis": {
             "endlinecolor": "#2a3f5f",
             "gridcolor": "white",
             "linecolor": "white",
             "minorgridcolor": "white",
             "startlinecolor": "#2a3f5f"
            },
            "type": "carpet"
           }
          ],
          "choropleth": [
           {
            "colorbar": {
             "outlinewidth": 0,
             "ticks": ""
            },
            "type": "choropleth"
           }
          ],
          "contour": [
           {
            "colorbar": {
             "outlinewidth": 0,
             "ticks": ""
            },
            "colorscale": [
             [
              0,
              "#0d0887"
             ],
             [
              0.1111111111111111,
              "#46039f"
             ],
             [
              0.2222222222222222,
              "#7201a8"
             ],
             [
              0.3333333333333333,
              "#9c179e"
             ],
             [
              0.4444444444444444,
              "#bd3786"
             ],
             [
              0.5555555555555556,
              "#d8576b"
             ],
             [
              0.6666666666666666,
              "#ed7953"
             ],
             [
              0.7777777777777778,
              "#fb9f3a"
             ],
             [
              0.8888888888888888,
              "#fdca26"
             ],
             [
              1,
              "#f0f921"
             ]
            ],
            "type": "contour"
           }
          ],
          "contourcarpet": [
           {
            "colorbar": {
             "outlinewidth": 0,
             "ticks": ""
            },
            "type": "contourcarpet"
           }
          ],
          "heatmap": [
           {
            "colorbar": {
             "outlinewidth": 0,
             "ticks": ""
            },
            "colorscale": [
             [
              0,
              "#0d0887"
             ],
             [
              0.1111111111111111,
              "#46039f"
             ],
             [
              0.2222222222222222,
              "#7201a8"
             ],
             [
              0.3333333333333333,
              "#9c179e"
             ],
             [
              0.4444444444444444,
              "#bd3786"
             ],
             [
              0.5555555555555556,
              "#d8576b"
             ],
             [
              0.6666666666666666,
              "#ed7953"
             ],
             [
              0.7777777777777778,
              "#fb9f3a"
             ],
             [
              0.8888888888888888,
              "#fdca26"
             ],
             [
              1,
              "#f0f921"
             ]
            ],
            "type": "heatmap"
           }
          ],
          "heatmapgl": [
           {
            "colorbar": {
             "outlinewidth": 0,
             "ticks": ""
            },
            "colorscale": [
             [
              0,
              "#0d0887"
             ],
             [
              0.1111111111111111,
              "#46039f"
             ],
             [
              0.2222222222222222,
              "#7201a8"
             ],
             [
              0.3333333333333333,
              "#9c179e"
             ],
             [
              0.4444444444444444,
              "#bd3786"
             ],
             [
              0.5555555555555556,
              "#d8576b"
             ],
             [
              0.6666666666666666,
              "#ed7953"
             ],
             [
              0.7777777777777778,
              "#fb9f3a"
             ],
             [
              0.8888888888888888,
              "#fdca26"
             ],
             [
              1,
              "#f0f921"
             ]
            ],
            "type": "heatmapgl"
           }
          ],
          "histogram": [
           {
            "marker": {
             "pattern": {
              "fillmode": "overlay",
              "size": 10,
              "solidity": 0.2
             }
            },
            "type": "histogram"
           }
          ],
          "histogram2d": [
           {
            "colorbar": {
             "outlinewidth": 0,
             "ticks": ""
            },
            "colorscale": [
             [
              0,
              "#0d0887"
             ],
             [
              0.1111111111111111,
              "#46039f"
             ],
             [
              0.2222222222222222,
              "#7201a8"
             ],
             [
              0.3333333333333333,
              "#9c179e"
             ],
             [
              0.4444444444444444,
              "#bd3786"
             ],
             [
              0.5555555555555556,
              "#d8576b"
             ],
             [
              0.6666666666666666,
              "#ed7953"
             ],
             [
              0.7777777777777778,
              "#fb9f3a"
             ],
             [
              0.8888888888888888,
              "#fdca26"
             ],
             [
              1,
              "#f0f921"
             ]
            ],
            "type": "histogram2d"
           }
          ],
          "histogram2dcontour": [
           {
            "colorbar": {
             "outlinewidth": 0,
             "ticks": ""
            },
            "colorscale": [
             [
              0,
              "#0d0887"
             ],
             [
              0.1111111111111111,
              "#46039f"
             ],
             [
              0.2222222222222222,
              "#7201a8"
             ],
             [
              0.3333333333333333,
              "#9c179e"
             ],
             [
              0.4444444444444444,
              "#bd3786"
             ],
             [
              0.5555555555555556,
              "#d8576b"
             ],
             [
              0.6666666666666666,
              "#ed7953"
             ],
             [
              0.7777777777777778,
              "#fb9f3a"
             ],
             [
              0.8888888888888888,
              "#fdca26"
             ],
             [
              1,
              "#f0f921"
             ]
            ],
            "type": "histogram2dcontour"
           }
          ],
          "mesh3d": [
           {
            "colorbar": {
             "outlinewidth": 0,
             "ticks": ""
            },
            "type": "mesh3d"
           }
          ],
          "parcoords": [
           {
            "line": {
             "colorbar": {
              "outlinewidth": 0,
              "ticks": ""
             }
            },
            "type": "parcoords"
           }
          ],
          "pie": [
           {
            "automargin": true,
            "type": "pie"
           }
          ],
          "scatter": [
           {
            "marker": {
             "colorbar": {
              "outlinewidth": 0,
              "ticks": ""
             }
            },
            "type": "scatter"
           }
          ],
          "scatter3d": [
           {
            "line": {
             "colorbar": {
              "outlinewidth": 0,
              "ticks": ""
             }
            },
            "marker": {
             "colorbar": {
              "outlinewidth": 0,
              "ticks": ""
             }
            },
            "type": "scatter3d"
           }
          ],
          "scattercarpet": [
           {
            "marker": {
             "colorbar": {
              "outlinewidth": 0,
              "ticks": ""
             }
            },
            "type": "scattercarpet"
           }
          ],
          "scattergeo": [
           {
            "marker": {
             "colorbar": {
              "outlinewidth": 0,
              "ticks": ""
             }
            },
            "type": "scattergeo"
           }
          ],
          "scattergl": [
           {
            "marker": {
             "colorbar": {
              "outlinewidth": 0,
              "ticks": ""
             }
            },
            "type": "scattergl"
           }
          ],
          "scattermapbox": [
           {
            "marker": {
             "colorbar": {
              "outlinewidth": 0,
              "ticks": ""
             }
            },
            "type": "scattermapbox"
           }
          ],
          "scatterpolar": [
           {
            "marker": {
             "colorbar": {
              "outlinewidth": 0,
              "ticks": ""
             }
            },
            "type": "scatterpolar"
           }
          ],
          "scatterpolargl": [
           {
            "marker": {
             "colorbar": {
              "outlinewidth": 0,
              "ticks": ""
             }
            },
            "type": "scatterpolargl"
           }
          ],
          "scatterternary": [
           {
            "marker": {
             "colorbar": {
              "outlinewidth": 0,
              "ticks": ""
             }
            },
            "type": "scatterternary"
           }
          ],
          "surface": [
           {
            "colorbar": {
             "outlinewidth": 0,
             "ticks": ""
            },
            "colorscale": [
             [
              0,
              "#0d0887"
             ],
             [
              0.1111111111111111,
              "#46039f"
             ],
             [
              0.2222222222222222,
              "#7201a8"
             ],
             [
              0.3333333333333333,
              "#9c179e"
             ],
             [
              0.4444444444444444,
              "#bd3786"
             ],
             [
              0.5555555555555556,
              "#d8576b"
             ],
             [
              0.6666666666666666,
              "#ed7953"
             ],
             [
              0.7777777777777778,
              "#fb9f3a"
             ],
             [
              0.8888888888888888,
              "#fdca26"
             ],
             [
              1,
              "#f0f921"
             ]
            ],
            "type": "surface"
           }
          ],
          "table": [
           {
            "cells": {
             "fill": {
              "color": "#EBF0F8"
             },
             "line": {
              "color": "white"
             }
            },
            "header": {
             "fill": {
              "color": "#C8D4E3"
             },
             "line": {
              "color": "white"
             }
            },
            "type": "table"
           }
          ]
         },
         "layout": {
          "annotationdefaults": {
           "arrowcolor": "#2a3f5f",
           "arrowhead": 0,
           "arrowwidth": 1
          },
          "autotypenumbers": "strict",
          "coloraxis": {
           "colorbar": {
            "outlinewidth": 0,
            "ticks": ""
           }
          },
          "colorscale": {
           "diverging": [
            [
             0,
             "#8e0152"
            ],
            [
             0.1,
             "#c51b7d"
            ],
            [
             0.2,
             "#de77ae"
            ],
            [
             0.3,
             "#f1b6da"
            ],
            [
             0.4,
             "#fde0ef"
            ],
            [
             0.5,
             "#f7f7f7"
            ],
            [
             0.6,
             "#e6f5d0"
            ],
            [
             0.7,
             "#b8e186"
            ],
            [
             0.8,
             "#7fbc41"
            ],
            [
             0.9,
             "#4d9221"
            ],
            [
             1,
             "#276419"
            ]
           ],
           "sequential": [
            [
             0,
             "#0d0887"
            ],
            [
             0.1111111111111111,
             "#46039f"
            ],
            [
             0.2222222222222222,
             "#7201a8"
            ],
            [
             0.3333333333333333,
             "#9c179e"
            ],
            [
             0.4444444444444444,
             "#bd3786"
            ],
            [
             0.5555555555555556,
             "#d8576b"
            ],
            [
             0.6666666666666666,
             "#ed7953"
            ],
            [
             0.7777777777777778,
             "#fb9f3a"
            ],
            [
             0.8888888888888888,
             "#fdca26"
            ],
            [
             1,
             "#f0f921"
            ]
           ],
           "sequentialminus": [
            [
             0,
             "#0d0887"
            ],
            [
             0.1111111111111111,
             "#46039f"
            ],
            [
             0.2222222222222222,
             "#7201a8"
            ],
            [
             0.3333333333333333,
             "#9c179e"
            ],
            [
             0.4444444444444444,
             "#bd3786"
            ],
            [
             0.5555555555555556,
             "#d8576b"
            ],
            [
             0.6666666666666666,
             "#ed7953"
            ],
            [
             0.7777777777777778,
             "#fb9f3a"
            ],
            [
             0.8888888888888888,
             "#fdca26"
            ],
            [
             1,
             "#f0f921"
            ]
           ]
          },
          "colorway": [
           "#636efa",
           "#EF553B",
           "#00cc96",
           "#ab63fa",
           "#FFA15A",
           "#19d3f3",
           "#FF6692",
           "#B6E880",
           "#FF97FF",
           "#FECB52"
          ],
          "font": {
           "color": "#2a3f5f"
          },
          "geo": {
           "bgcolor": "white",
           "lakecolor": "white",
           "landcolor": "#E5ECF6",
           "showlakes": true,
           "showland": true,
           "subunitcolor": "white"
          },
          "hoverlabel": {
           "align": "left"
          },
          "hovermode": "closest",
          "mapbox": {
           "style": "light"
          },
          "paper_bgcolor": "white",
          "plot_bgcolor": "#E5ECF6",
          "polar": {
           "angularaxis": {
            "gridcolor": "white",
            "linecolor": "white",
            "ticks": ""
           },
           "bgcolor": "#E5ECF6",
           "radialaxis": {
            "gridcolor": "white",
            "linecolor": "white",
            "ticks": ""
           }
          },
          "scene": {
           "xaxis": {
            "backgroundcolor": "#E5ECF6",
            "gridcolor": "white",
            "gridwidth": 2,
            "linecolor": "white",
            "showbackground": true,
            "ticks": "",
            "zerolinecolor": "white"
           },
           "yaxis": {
            "backgroundcolor": "#E5ECF6",
            "gridcolor": "white",
            "gridwidth": 2,
            "linecolor": "white",
            "showbackground": true,
            "ticks": "",
            "zerolinecolor": "white"
           },
           "zaxis": {
            "backgroundcolor": "#E5ECF6",
            "gridcolor": "white",
            "gridwidth": 2,
            "linecolor": "white",
            "showbackground": true,
            "ticks": "",
            "zerolinecolor": "white"
           }
          },
          "shapedefaults": {
           "line": {
            "color": "#2a3f5f"
           }
          },
          "ternary": {
           "aaxis": {
            "gridcolor": "white",
            "linecolor": "white",
            "ticks": ""
           },
           "baxis": {
            "gridcolor": "white",
            "linecolor": "white",
            "ticks": ""
           },
           "bgcolor": "#E5ECF6",
           "caxis": {
            "gridcolor": "white",
            "linecolor": "white",
            "ticks": ""
           }
          },
          "title": {
           "x": 0.05
          },
          "xaxis": {
           "automargin": true,
           "gridcolor": "white",
           "linecolor": "white",
           "ticks": "",
           "title": {
            "standoff": 15
           },
           "zerolinecolor": "white",
           "zerolinewidth": 2
          },
          "yaxis": {
           "automargin": true,
           "gridcolor": "white",
           "linecolor": "white",
           "ticks": "",
           "title": {
            "standoff": 15
           },
           "zerolinecolor": "white",
           "zerolinewidth": 2
          }
         }
        },
        "title": {
         "text": "Yearly Trends"
        },
        "xaxis": {
         "title": {
          "text": "Year"
         }
        },
        "yaxis": {
         "title": {
          "text": "Value"
         }
        }
       }
      },
      "text/html": [
       "<div>                            <div id=\"c6b425a7-1723-4af3-b8b0-a81dc1ef6d14\" class=\"plotly-graph-div\" style=\"height:525px; width:100%;\"></div>            <script type=\"text/javascript\">                require([\"plotly\"], function(Plotly) {                    window.PLOTLYENV=window.PLOTLYENV || {};                                    if (document.getElementById(\"c6b425a7-1723-4af3-b8b0-a81dc1ef6d14\")) {                    Plotly.newPlot(                        \"c6b425a7-1723-4af3-b8b0-a81dc1ef6d14\",                        [{\"mode\":\"lines\",\"name\":\"Average Temperature (Fahrenheit)\",\"x\":[2018,2019,2020,2021,2022,2023],\"y\":[60.685450819672134,51.69974677716392,53.608173716413944,54.00491932310114,52.1348878394333,40.92673611111112],\"type\":\"scatter\"},{\"mode\":\"lines\",\"name\":\"RelativeHumidity\",\"x\":[2018,2019,2020,2021,2022,2023],\"y\":[0.7688900273224046,0.7773619935543283,0.7216336326150571,0.7271470287288473,0.7105922733831832,0.7057020833333335],\"type\":\"scatter\"},{\"mode\":\"lines\",\"name\":\"precipitation_rain\",\"x\":[2018,2019,2020,2021,2022,2023],\"y\":[0.0,0.0075276243093922515,0.03863128491620116,0.005206611570247937,0.01877607241243603,0.007125000000000005],\"type\":\"scatter\"},{\"mode\":\"lines\",\"name\":\"Wind_Speed_MPH\",\"x\":[2018,2019,2020,2021,2022,2023],\"y\":[5.291427595628411,6.015036832412527,5.750154961425913,5.542390791027148,6.319803882985704,7.255729166666669],\"type\":\"scatter\"},{\"mode\":\"lines\",\"name\":\"Dewpoint_Fahrenheit\",\"x\":[2018,2019,2020,2021,2022,2023],\"y\":[52.252732240437155,44.2588525132275,43.69217877094972,44.72740740740741,42.281137053159206,31.169467787114844],\"type\":\"scatter\"},{\"mode\":\"lines\",\"name\":\"FeelsLike_Fahrenheit\",\"x\":[2018,2019,2020,2021,2022,2023],\"y\":[60.33811475409836,50.366875000000014,52.22577813248205,53.30242724867723,50.68216931216932,37.44375],\"type\":\"scatter\"},{\"mode\":\"lines\",\"name\":\"Pressure_In_Inches_of_Mercury\",\"x\":[2018,2019,2020,2021,2022,2023],\"y\":[29.562158469945356,29.54467245461721,29.55896358543417,29.575757575757574,29.545670995670992,29.479166666666668],\"type\":\"scatter\"},{\"mode\":\"lines\",\"name\":\"Visibility_In_Miles\",\"x\":[2018,2019,2020,2021,2022,2023],\"y\":[8.927254098360656,9.008977900552486,9.152001862197395,9.118870523415978,9.178414010232192,9.080208333333333],\"type\":\"scatter\"}],                        {\"template\":{\"data\":{\"bar\":[{\"error_x\":{\"color\":\"#2a3f5f\"},\"error_y\":{\"color\":\"#2a3f5f\"},\"marker\":{\"line\":{\"color\":\"#E5ECF6\",\"width\":0.5},\"pattern\":{\"fillmode\":\"overlay\",\"size\":10,\"solidity\":0.2}},\"type\":\"bar\"}],\"barpolar\":[{\"marker\":{\"line\":{\"color\":\"#E5ECF6\",\"width\":0.5},\"pattern\":{\"fillmode\":\"overlay\",\"size\":10,\"solidity\":0.2}},\"type\":\"barpolar\"}],\"carpet\":[{\"aaxis\":{\"endlinecolor\":\"#2a3f5f\",\"gridcolor\":\"white\",\"linecolor\":\"white\",\"minorgridcolor\":\"white\",\"startlinecolor\":\"#2a3f5f\"},\"baxis\":{\"endlinecolor\":\"#2a3f5f\",\"gridcolor\":\"white\",\"linecolor\":\"white\",\"minorgridcolor\":\"white\",\"startlinecolor\":\"#2a3f5f\"},\"type\":\"carpet\"}],\"choropleth\":[{\"colorbar\":{\"outlinewidth\":0,\"ticks\":\"\"},\"type\":\"choropleth\"}],\"contour\":[{\"colorbar\":{\"outlinewidth\":0,\"ticks\":\"\"},\"colorscale\":[[0.0,\"#0d0887\"],[0.1111111111111111,\"#46039f\"],[0.2222222222222222,\"#7201a8\"],[0.3333333333333333,\"#9c179e\"],[0.4444444444444444,\"#bd3786\"],[0.5555555555555556,\"#d8576b\"],[0.6666666666666666,\"#ed7953\"],[0.7777777777777778,\"#fb9f3a\"],[0.8888888888888888,\"#fdca26\"],[1.0,\"#f0f921\"]],\"type\":\"contour\"}],\"contourcarpet\":[{\"colorbar\":{\"outlinewidth\":0,\"ticks\":\"\"},\"type\":\"contourcarpet\"}],\"heatmap\":[{\"colorbar\":{\"outlinewidth\":0,\"ticks\":\"\"},\"colorscale\":[[0.0,\"#0d0887\"],[0.1111111111111111,\"#46039f\"],[0.2222222222222222,\"#7201a8\"],[0.3333333333333333,\"#9c179e\"],[0.4444444444444444,\"#bd3786\"],[0.5555555555555556,\"#d8576b\"],[0.6666666666666666,\"#ed7953\"],[0.7777777777777778,\"#fb9f3a\"],[0.8888888888888888,\"#fdca26\"],[1.0,\"#f0f921\"]],\"type\":\"heatmap\"}],\"heatmapgl\":[{\"colorbar\":{\"outlinewidth\":0,\"ticks\":\"\"},\"colorscale\":[[0.0,\"#0d0887\"],[0.1111111111111111,\"#46039f\"],[0.2222222222222222,\"#7201a8\"],[0.3333333333333333,\"#9c179e\"],[0.4444444444444444,\"#bd3786\"],[0.5555555555555556,\"#d8576b\"],[0.6666666666666666,\"#ed7953\"],[0.7777777777777778,\"#fb9f3a\"],[0.8888888888888888,\"#fdca26\"],[1.0,\"#f0f921\"]],\"type\":\"heatmapgl\"}],\"histogram\":[{\"marker\":{\"pattern\":{\"fillmode\":\"overlay\",\"size\":10,\"solidity\":0.2}},\"type\":\"histogram\"}],\"histogram2d\":[{\"colorbar\":{\"outlinewidth\":0,\"ticks\":\"\"},\"colorscale\":[[0.0,\"#0d0887\"],[0.1111111111111111,\"#46039f\"],[0.2222222222222222,\"#7201a8\"],[0.3333333333333333,\"#9c179e\"],[0.4444444444444444,\"#bd3786\"],[0.5555555555555556,\"#d8576b\"],[0.6666666666666666,\"#ed7953\"],[0.7777777777777778,\"#fb9f3a\"],[0.8888888888888888,\"#fdca26\"],[1.0,\"#f0f921\"]],\"type\":\"histogram2d\"}],\"histogram2dcontour\":[{\"colorbar\":{\"outlinewidth\":0,\"ticks\":\"\"},\"colorscale\":[[0.0,\"#0d0887\"],[0.1111111111111111,\"#46039f\"],[0.2222222222222222,\"#7201a8\"],[0.3333333333333333,\"#9c179e\"],[0.4444444444444444,\"#bd3786\"],[0.5555555555555556,\"#d8576b\"],[0.6666666666666666,\"#ed7953\"],[0.7777777777777778,\"#fb9f3a\"],[0.8888888888888888,\"#fdca26\"],[1.0,\"#f0f921\"]],\"type\":\"histogram2dcontour\"}],\"mesh3d\":[{\"colorbar\":{\"outlinewidth\":0,\"ticks\":\"\"},\"type\":\"mesh3d\"}],\"parcoords\":[{\"line\":{\"colorbar\":{\"outlinewidth\":0,\"ticks\":\"\"}},\"type\":\"parcoords\"}],\"pie\":[{\"automargin\":true,\"type\":\"pie\"}],\"scatter\":[{\"marker\":{\"colorbar\":{\"outlinewidth\":0,\"ticks\":\"\"}},\"type\":\"scatter\"}],\"scatter3d\":[{\"line\":{\"colorbar\":{\"outlinewidth\":0,\"ticks\":\"\"}},\"marker\":{\"colorbar\":{\"outlinewidth\":0,\"ticks\":\"\"}},\"type\":\"scatter3d\"}],\"scattercarpet\":[{\"marker\":{\"colorbar\":{\"outlinewidth\":0,\"ticks\":\"\"}},\"type\":\"scattercarpet\"}],\"scattergeo\":[{\"marker\":{\"colorbar\":{\"outlinewidth\":0,\"ticks\":\"\"}},\"type\":\"scattergeo\"}],\"scattergl\":[{\"marker\":{\"colorbar\":{\"outlinewidth\":0,\"ticks\":\"\"}},\"type\":\"scattergl\"}],\"scattermapbox\":[{\"marker\":{\"colorbar\":{\"outlinewidth\":0,\"ticks\":\"\"}},\"type\":\"scattermapbox\"}],\"scatterpolar\":[{\"marker\":{\"colorbar\":{\"outlinewidth\":0,\"ticks\":\"\"}},\"type\":\"scatterpolar\"}],\"scatterpolargl\":[{\"marker\":{\"colorbar\":{\"outlinewidth\":0,\"ticks\":\"\"}},\"type\":\"scatterpolargl\"}],\"scatterternary\":[{\"marker\":{\"colorbar\":{\"outlinewidth\":0,\"ticks\":\"\"}},\"type\":\"scatterternary\"}],\"surface\":[{\"colorbar\":{\"outlinewidth\":0,\"ticks\":\"\"},\"colorscale\":[[0.0,\"#0d0887\"],[0.1111111111111111,\"#46039f\"],[0.2222222222222222,\"#7201a8\"],[0.3333333333333333,\"#9c179e\"],[0.4444444444444444,\"#bd3786\"],[0.5555555555555556,\"#d8576b\"],[0.6666666666666666,\"#ed7953\"],[0.7777777777777778,\"#fb9f3a\"],[0.8888888888888888,\"#fdca26\"],[1.0,\"#f0f921\"]],\"type\":\"surface\"}],\"table\":[{\"cells\":{\"fill\":{\"color\":\"#EBF0F8\"},\"line\":{\"color\":\"white\"}},\"header\":{\"fill\":{\"color\":\"#C8D4E3\"},\"line\":{\"color\":\"white\"}},\"type\":\"table\"}]},\"layout\":{\"annotationdefaults\":{\"arrowcolor\":\"#2a3f5f\",\"arrowhead\":0,\"arrowwidth\":1},\"autotypenumbers\":\"strict\",\"coloraxis\":{\"colorbar\":{\"outlinewidth\":0,\"ticks\":\"\"}},\"colorscale\":{\"diverging\":[[0,\"#8e0152\"],[0.1,\"#c51b7d\"],[0.2,\"#de77ae\"],[0.3,\"#f1b6da\"],[0.4,\"#fde0ef\"],[0.5,\"#f7f7f7\"],[0.6,\"#e6f5d0\"],[0.7,\"#b8e186\"],[0.8,\"#7fbc41\"],[0.9,\"#4d9221\"],[1,\"#276419\"]],\"sequential\":[[0.0,\"#0d0887\"],[0.1111111111111111,\"#46039f\"],[0.2222222222222222,\"#7201a8\"],[0.3333333333333333,\"#9c179e\"],[0.4444444444444444,\"#bd3786\"],[0.5555555555555556,\"#d8576b\"],[0.6666666666666666,\"#ed7953\"],[0.7777777777777778,\"#fb9f3a\"],[0.8888888888888888,\"#fdca26\"],[1.0,\"#f0f921\"]],\"sequentialminus\":[[0.0,\"#0d0887\"],[0.1111111111111111,\"#46039f\"],[0.2222222222222222,\"#7201a8\"],[0.3333333333333333,\"#9c179e\"],[0.4444444444444444,\"#bd3786\"],[0.5555555555555556,\"#d8576b\"],[0.6666666666666666,\"#ed7953\"],[0.7777777777777778,\"#fb9f3a\"],[0.8888888888888888,\"#fdca26\"],[1.0,\"#f0f921\"]]},\"colorway\":[\"#636efa\",\"#EF553B\",\"#00cc96\",\"#ab63fa\",\"#FFA15A\",\"#19d3f3\",\"#FF6692\",\"#B6E880\",\"#FF97FF\",\"#FECB52\"],\"font\":{\"color\":\"#2a3f5f\"},\"geo\":{\"bgcolor\":\"white\",\"lakecolor\":\"white\",\"landcolor\":\"#E5ECF6\",\"showlakes\":true,\"showland\":true,\"subunitcolor\":\"white\"},\"hoverlabel\":{\"align\":\"left\"},\"hovermode\":\"closest\",\"mapbox\":{\"style\":\"light\"},\"paper_bgcolor\":\"white\",\"plot_bgcolor\":\"#E5ECF6\",\"polar\":{\"angularaxis\":{\"gridcolor\":\"white\",\"linecolor\":\"white\",\"ticks\":\"\"},\"bgcolor\":\"#E5ECF6\",\"radialaxis\":{\"gridcolor\":\"white\",\"linecolor\":\"white\",\"ticks\":\"\"}},\"scene\":{\"xaxis\":{\"backgroundcolor\":\"#E5ECF6\",\"gridcolor\":\"white\",\"gridwidth\":2,\"linecolor\":\"white\",\"showbackground\":true,\"ticks\":\"\",\"zerolinecolor\":\"white\"},\"yaxis\":{\"backgroundcolor\":\"#E5ECF6\",\"gridcolor\":\"white\",\"gridwidth\":2,\"linecolor\":\"white\",\"showbackground\":true,\"ticks\":\"\",\"zerolinecolor\":\"white\"},\"zaxis\":{\"backgroundcolor\":\"#E5ECF6\",\"gridcolor\":\"white\",\"gridwidth\":2,\"linecolor\":\"white\",\"showbackground\":true,\"ticks\":\"\",\"zerolinecolor\":\"white\"}},\"shapedefaults\":{\"line\":{\"color\":\"#2a3f5f\"}},\"ternary\":{\"aaxis\":{\"gridcolor\":\"white\",\"linecolor\":\"white\",\"ticks\":\"\"},\"baxis\":{\"gridcolor\":\"white\",\"linecolor\":\"white\",\"ticks\":\"\"},\"bgcolor\":\"#E5ECF6\",\"caxis\":{\"gridcolor\":\"white\",\"linecolor\":\"white\",\"ticks\":\"\"}},\"title\":{\"x\":0.05},\"xaxis\":{\"automargin\":true,\"gridcolor\":\"white\",\"linecolor\":\"white\",\"ticks\":\"\",\"title\":{\"standoff\":15},\"zerolinecolor\":\"white\",\"zerolinewidth\":2},\"yaxis\":{\"automargin\":true,\"gridcolor\":\"white\",\"linecolor\":\"white\",\"ticks\":\"\",\"title\":{\"standoff\":15},\"zerolinecolor\":\"white\",\"zerolinewidth\":2}}},\"xaxis\":{\"title\":{\"text\":\"Year\"}},\"yaxis\":{\"title\":{\"text\":\"Value\"}},\"title\":{\"text\":\"Yearly Trends\"},\"showlegend\":true},                        {\"responsive\": true}                    ).then(function(){\n",
       "                            \n",
       "var gd = document.getElementById('c6b425a7-1723-4af3-b8b0-a81dc1ef6d14');\n",
       "var x = new MutationObserver(function (mutations, observer) {{\n",
       "        var display = window.getComputedStyle(gd).display;\n",
       "        if (!display || display === 'none') {{\n",
       "            console.log([gd, 'removed!']);\n",
       "            Plotly.purge(gd);\n",
       "            observer.disconnect();\n",
       "        }}\n",
       "}});\n",
       "\n",
       "// Listen for the removal of the full notebook cells\n",
       "var notebookContainer = gd.closest('#notebook-container');\n",
       "if (notebookContainer) {{\n",
       "    x.observe(notebookContainer, {childList: true});\n",
       "}}\n",
       "\n",
       "// Listen for the clearing of the current output cell\n",
       "var outputEl = gd.closest('.output');\n",
       "if (outputEl) {{\n",
       "    x.observe(outputEl, {childList: true});\n",
       "}}\n",
       "\n",
       "                        })                };                });            </script>        </div>"
      ]
     },
     "metadata": {},
     "output_type": "display_data"
    }
   ],
   "source": [
    "# Line plot to show year trends of multiple columns\n",
    "import plotly.graph_objects as go\n",
    "\n",
    "# Calculate yearly average temperatures\n",
    "yearly_temperatures = grouped_df.groupby(\"Year\")[\"Target_Fahrenheit\"].mean()\n",
    "years = yearly_temperatures.index\n",
    "\n",
    "# Create figure and add trace for average temperature\n",
    "fig = go.Figure()\n",
    "fig.add_trace(go.Scatter(\n",
    "    x=years,\n",
    "    y=yearly_temperatures.values,\n",
    "    mode='lines',\n",
    "    name='Average Temperature (Fahrenheit)'\n",
    "))\n",
    "\n",
    "# Additional columns\n",
    "columns = [\"RelativeHumidity\", \"precipitation_rain\", \"Wind_Speed_MPH\", \n",
    "           \"Dewpoint_Fahrenheit\", \"FeelsLike_Fahrenheit\", \"Pressure_In_Inches_of_Mercury\", \"Visibility_In_Miles\"]\n",
    "\n",
    "# Add traces for additional columns\n",
    "for column in columns:\n",
    "    yearly_values = grouped_df.groupby(\"Year\")[column].mean()\n",
    "    fig.add_trace(go.Scatter(\n",
    "        x=years,\n",
    "        y=yearly_values.values,\n",
    "        mode='lines',\n",
    "        name=column\n",
    "    ))\n",
    "\n",
    "# Customize layout\n",
    "fig.update_layout(\n",
    "    xaxis=dict(title='Year'),\n",
    "    yaxis=dict(title='Value'),\n",
    "    title='Yearly Trends',\n",
    "    showlegend=True\n",
    ")\n",
    "\n",
    "fig.update_annotations(dict(xref=\"paper\", yref=\"paper\", x=0.5, y=1.2, showarrow=False,\n",
    "                            text=\"Yearly Trends\", font=dict(size=18)))\n",
    "\n",
    "\n",
    "# Display the plot\n",
    "fig.show()\n"
   ]
  },
  {
   "cell_type": "code",
   "execution_count": 204,
   "id": "7a3c4fec",
   "metadata": {},
   "outputs": [
    {
     "data": {
      "image/png": "[encoded data removed]",
      "text/plain": [
       "<Figure size 864x648 with 2 Axes>"
      ]
     },
     "metadata": {
      "needs_background": "light"
     },
     "output_type": "display_data"
    }
   ],
   "source": [
    "#Correlation matrix for the numerical columns to visualize the correlation \n",
    "corr_matrix = grouped_df[numerical_columns].corr()\n",
    "plt.figure(figsize=(12, 9))\n",
    "sns.heatmap(corr_matrix, cmap='coolwarm', annot=True)\n",
    "plt.show()"
   ]
  },
  {
   "cell_type": "code",
   "execution_count": 205,
   "id": "d7681ea3",
   "metadata": {},
   "outputs": [
    {
     "name": "stdout",
     "output_type": "stream",
     "text": [
      "Target_Fahrenheit                1.000000\n",
      "FeelsLike_Fahrenheit             0.995564\n",
      "FeelsLike_Celsius                0.990338\n",
      "Target_Celsius                   0.971748\n",
      "Dewpoint_Fahrenheit              0.961222\n",
      "Dewpoint_Celsius                 0.929517\n",
      "Pressure_In_Inches_of_Mercury    0.275171\n",
      "Month                            0.225850\n",
      "Wind_Speed_MPH                   0.205329\n",
      "Visibility_In_Miles              0.158938\n",
      "Year                             0.153779\n",
      "precipitation_rain               0.105071\n",
      "RelativeHumidity                 0.070089\n",
      "Day                              0.018693\n",
      "Name: Target_Fahrenheit, dtype: float64\n"
     ]
    }
   ],
   "source": [
    "#Calculates the correlation matrix between the selected numerical columns\n",
    "corr = grouped_df[numerical_columns].corr()['Target_Fahrenheit']\n",
    "corr_sorted = corr.abs().sort_values(ascending=False)\n",
    "print(corr_sorted)"
   ]
  },
  {
   "cell_type": "code",
   "execution_count": 206,
   "id": "0571d91c",
   "metadata": {},
   "outputs": [
    {
     "data": {
      "image/png": "[encoded data removed]",
      "text/plain": [
       "<Figure size 720x504 with 2 Axes>"
      ]
     },
     "metadata": {
      "needs_background": "light"
     },
     "output_type": "display_data"
    }
   ],
   "source": [
    "#heatmap to visualize the correlations between the 'Target_Fahrenheit'column and corr_matrix DataFrame. \n",
    "cm = corr_matrix[['Target_Fahrenheit']].sort_values(by='Target_Fahrenheit', ascending=False)\n",
    "plt.figure(figsize=(10,7))\n",
    "sns.heatmap(cm, cmap='coolwarm', annot=True)\n",
    "plt.show()"
   ]
  },
  {
   "cell_type": "code",
   "execution_count": 207,
   "id": "b4907a79",
   "metadata": {},
   "outputs": [
    {
     "name": "stdout",
     "output_type": "stream",
     "text": [
      "['CurrentConditions', 'ConditionType', 'CloudCondition', 'MoonInfo', 'Timezone', 'SunInfo_Sun-UP']\n"
     ]
    }
   ],
   "source": [
    "new_categorical_columns = []\n",
    "\n",
    "for column in grouped_df.columns:\n",
    "    if df[column].dtype == 'object':\n",
    "        new_categorical_columns.append(column)\n",
    "\n",
    "print(new_categorical_columns)"
   ]
  },
  {
   "cell_type": "code",
   "execution_count": 208,
   "id": "2c48289d",
   "metadata": {},
   "outputs": [
    {
     "name": "stdout",
     "output_type": "stream",
     "text": [
      "Number of unique values in CurrentConditions: 17\n",
      "Number of unique values in ConditionType: 2\n",
      "Number of unique values in CloudCondition: 40\n",
      "Number of unique values in MoonInfo: 8\n",
      "Number of unique values in Timezone: 1\n",
      "Number of unique values in SunInfo_Sun-UP: 2\n"
     ]
    }
   ],
   "source": [
    "for col in new_categorical_columns:\n",
    "    num_unique = grouped_df[col].nunique()\n",
    "    print(f\"Number of unique values in {col}: {num_unique}\")"
   ]
  },
  {
   "cell_type": "code",
   "execution_count": 209,
   "id": "7634f7bd",
   "metadata": {},
   "outputs": [],
   "source": [
    "for col in new_categorical_columns:\n",
    "    grouped_df = grouped_df.drop(col, axis=1)"
   ]
  },
  {
   "cell_type": "code",
   "execution_count": 210,
   "id": "42a1189d",
   "metadata": {},
   "outputs": [
    {
     "data": {
      "text/html": [
       "<div>\n",
       "<style scoped>\n",
       "    .dataframe tbody tr th:only-of-type {\n",
       "        vertical-align: middle;\n",
       "    }\n",
       "\n",
       "    .dataframe tbody tr th {\n",
       "        vertical-align: top;\n",
       "    }\n",
       "\n",
       "    .dataframe thead th {\n",
       "        text-align: right;\n",
       "    }\n",
       "</style>\n",
       "<table border=\"1\" class=\"dataframe\">\n",
       "  <thead>\n",
       "    <tr style=\"text-align: right;\">\n",
       "      <th></th>\n",
       "      <th>Year</th>\n",
       "      <th>Month</th>\n",
       "      <th>Day</th>\n",
       "      <th>RelativeHumidity</th>\n",
       "      <th>precipitation_rain</th>\n",
       "      <th>Wind_Speed_MPH</th>\n",
       "      <th>Dewpoint_Fahrenheit</th>\n",
       "      <th>Dewpoint_Celsius</th>\n",
       "      <th>FeelsLike_Fahrenheit</th>\n",
       "      <th>FeelsLike_Celsius</th>\n",
       "      <th>Pressure_In_Inches_of_Mercury</th>\n",
       "      <th>Visibility_In_Miles</th>\n",
       "      <th>Target_Fahrenheit</th>\n",
       "      <th>Target_Celsius</th>\n",
       "    </tr>\n",
       "  </thead>\n",
       "  <tbody>\n",
       "    <tr>\n",
       "      <th>0</th>\n",
       "      <td>2018</td>\n",
       "      <td>5</td>\n",
       "      <td>1</td>\n",
       "      <td>0.41200</td>\n",
       "      <td>0.0</td>\n",
       "      <td>12.100</td>\n",
       "      <td>47.25</td>\n",
       "      <td>8.50</td>\n",
       "      <td>72.75</td>\n",
       "      <td>22.75</td>\n",
       "      <td>29.25</td>\n",
       "      <td>10.00</td>\n",
       "      <td>72.75</td>\n",
       "      <td>22.75</td>\n",
       "    </tr>\n",
       "    <tr>\n",
       "      <th>1</th>\n",
       "      <td>2018</td>\n",
       "      <td>5</td>\n",
       "      <td>2</td>\n",
       "      <td>0.55175</td>\n",
       "      <td>0.0</td>\n",
       "      <td>9.775</td>\n",
       "      <td>58.50</td>\n",
       "      <td>14.75</td>\n",
       "      <td>76.50</td>\n",
       "      <td>24.75</td>\n",
       "      <td>29.00</td>\n",
       "      <td>10.00</td>\n",
       "      <td>76.50</td>\n",
       "      <td>24.75</td>\n",
       "    </tr>\n",
       "    <tr>\n",
       "      <th>2</th>\n",
       "      <td>2018</td>\n",
       "      <td>5</td>\n",
       "      <td>3</td>\n",
       "      <td>0.87450</td>\n",
       "      <td>0.0</td>\n",
       "      <td>7.500</td>\n",
       "      <td>65.00</td>\n",
       "      <td>18.50</td>\n",
       "      <td>69.25</td>\n",
       "      <td>20.75</td>\n",
       "      <td>29.00</td>\n",
       "      <td>9.25</td>\n",
       "      <td>69.25</td>\n",
       "      <td>20.75</td>\n",
       "    </tr>\n",
       "  </tbody>\n",
       "</table>\n",
       "</div>"
      ],
      "text/plain": [
       "   Year  Month  Day  RelativeHumidity  precipitation_rain  Wind_Speed_MPH  \\\n",
       "0  2018      5    1           0.41200                 0.0          12.100   \n",
       "1  2018      5    2           0.55175                 0.0           9.775   \n",
       "2  2018      5    3           0.87450                 0.0           7.500   \n",
       "\n",
       "   Dewpoint_Fahrenheit  Dewpoint_Celsius  FeelsLike_Fahrenheit  \\\n",
       "0                47.25              8.50                 72.75   \n",
       "1                58.50             14.75                 76.50   \n",
       "2                65.00             18.50                 69.25   \n",
       "\n",
       "   FeelsLike_Celsius  Pressure_In_Inches_of_Mercury  Visibility_In_Miles  \\\n",
       "0              22.75                          29.25                10.00   \n",
       "1              24.75                          29.00                10.00   \n",
       "2              20.75                          29.00                 9.25   \n",
       "\n",
       "   Target_Fahrenheit  Target_Celsius  \n",
       "0              72.75           22.75  \n",
       "1              76.50           24.75  \n",
       "2              69.25           20.75  "
      ]
     },
     "execution_count": 210,
     "metadata": {},
     "output_type": "execute_result"
    }
   ],
   "source": [
    "grouped_df.head(3)"
   ]
  },
  {
   "cell_type": "markdown",
   "id": "2bfdb1a4",
   "metadata": {},
   "source": [
    "# Data Preprocessing"
   ]
  },
  {
   "cell_type": "code",
   "execution_count": 214,
   "id": "3bdc10b6",
   "metadata": {},
   "outputs": [
    {
     "data": {
      "text/html": [
       "<div>\n",
       "<style scoped>\n",
       "    .dataframe tbody tr th:only-of-type {\n",
       "        vertical-align: middle;\n",
       "    }\n",
       "\n",
       "    .dataframe tbody tr th {\n",
       "        vertical-align: top;\n",
       "    }\n",
       "\n",
       "    .dataframe thead th {\n",
       "        text-align: right;\n",
       "    }\n",
       "</style>\n",
       "<table border=\"1\" class=\"dataframe\">\n",
       "  <thead>\n",
       "    <tr style=\"text-align: right;\">\n",
       "      <th></th>\n",
       "      <th>RelativeHumidity</th>\n",
       "      <th>precipitation_rain</th>\n",
       "      <th>Wind_Speed_MPH</th>\n",
       "      <th>Dewpoint_Fahrenheit</th>\n",
       "      <th>Dewpoint_Celsius</th>\n",
       "      <th>FeelsLike_Fahrenheit</th>\n",
       "      <th>FeelsLike_Celsius</th>\n",
       "      <th>Pressure_In_Inches_of_Mercury</th>\n",
       "      <th>Visibility_In_Miles</th>\n",
       "      <th>Target_Celsius</th>\n",
       "      <th>Target_Fahrenheit</th>\n",
       "    </tr>\n",
       "  </thead>\n",
       "  <tbody>\n",
       "    <tr>\n",
       "      <th>0</th>\n",
       "      <td>-2.709662</td>\n",
       "      <td>-0.293721</td>\n",
       "      <td>1.845295</td>\n",
       "      <td>0.174892</td>\n",
       "      <td>-0.258554</td>\n",
       "      <td>0.972802</td>\n",
       "      <td>0.895996</td>\n",
       "      <td>-0.703213</td>\n",
       "      <td>0.628553</td>\n",
       "      <td>1.085605</td>\n",
       "      <td>72.75</td>\n",
       "    </tr>\n",
       "    <tr>\n",
       "      <th>1</th>\n",
       "      <td>-1.544453</td>\n",
       "      <td>-0.293721</td>\n",
       "      <td>1.151779</td>\n",
       "      <td>0.792000</td>\n",
       "      <td>0.570823</td>\n",
       "      <td>1.147558</td>\n",
       "      <td>1.112058</td>\n",
       "      <td>-1.285450</td>\n",
       "      <td>0.628553</td>\n",
       "      <td>1.304169</td>\n",
       "      <td>76.50</td>\n",
       "    </tr>\n",
       "    <tr>\n",
       "      <th>2</th>\n",
       "      <td>1.146575</td>\n",
       "      <td>-0.293721</td>\n",
       "      <td>0.473176</td>\n",
       "      <td>1.148552</td>\n",
       "      <td>1.068449</td>\n",
       "      <td>0.809696</td>\n",
       "      <td>0.679934</td>\n",
       "      <td>-1.285450</td>\n",
       "      <td>0.112221</td>\n",
       "      <td>0.867041</td>\n",
       "      <td>69.25</td>\n",
       "    </tr>\n",
       "    <tr>\n",
       "      <th>3</th>\n",
       "      <td>-0.735686</td>\n",
       "      <td>-0.293721</td>\n",
       "      <td>0.726720</td>\n",
       "      <td>0.558870</td>\n",
       "      <td>0.239072</td>\n",
       "      <td>0.728143</td>\n",
       "      <td>0.571903</td>\n",
       "      <td>-0.703213</td>\n",
       "      <td>0.628553</td>\n",
       "      <td>0.757760</td>\n",
       "      <td>67.50</td>\n",
       "    </tr>\n",
       "    <tr>\n",
       "      <th>4</th>\n",
       "      <td>-2.048891</td>\n",
       "      <td>-0.293721</td>\n",
       "      <td>-0.652856</td>\n",
       "      <td>0.024043</td>\n",
       "      <td>-0.457605</td>\n",
       "      <td>0.786395</td>\n",
       "      <td>0.652926</td>\n",
       "      <td>-0.120975</td>\n",
       "      <td>0.628553</td>\n",
       "      <td>0.839721</td>\n",
       "      <td>68.75</td>\n",
       "    </tr>\n",
       "    <tr>\n",
       "      <th>...</th>\n",
       "      <td>...</td>\n",
       "      <td>...</td>\n",
       "      <td>...</td>\n",
       "      <td>...</td>\n",
       "      <td>...</td>\n",
       "      <td>...</td>\n",
       "      <td>...</td>\n",
       "      <td>...</td>\n",
       "      <td>...</td>\n",
       "      <td>...</td>\n",
       "      <td>...</td>\n",
       "    </tr>\n",
       "    <tr>\n",
       "      <th>1805</th>\n",
       "      <td>0.642137</td>\n",
       "      <td>-0.293721</td>\n",
       "      <td>0.644691</td>\n",
       "      <td>-0.346223</td>\n",
       "      <td>-0.955231</td>\n",
       "      <td>-0.588356</td>\n",
       "      <td>-1.156593</td>\n",
       "      <td>-1.285450</td>\n",
       "      <td>-0.232000</td>\n",
       "      <td>-0.717547</td>\n",
       "      <td>43.50</td>\n",
       "    </tr>\n",
       "    <tr>\n",
       "      <th>1806</th>\n",
       "      <td>-0.183306</td>\n",
       "      <td>-0.293721</td>\n",
       "      <td>0.644691</td>\n",
       "      <td>-0.332509</td>\n",
       "      <td>-0.955231</td>\n",
       "      <td>-0.413600</td>\n",
       "      <td>-0.913523</td>\n",
       "      <td>-1.285450</td>\n",
       "      <td>0.112221</td>\n",
       "      <td>-0.498983</td>\n",
       "      <td>47.00</td>\n",
       "    </tr>\n",
       "    <tr>\n",
       "      <th>1807</th>\n",
       "      <td>-1.748730</td>\n",
       "      <td>-0.293721</td>\n",
       "      <td>1.673780</td>\n",
       "      <td>-0.579353</td>\n",
       "      <td>-1.286982</td>\n",
       "      <td>-0.145640</td>\n",
       "      <td>-0.535415</td>\n",
       "      <td>-1.285450</td>\n",
       "      <td>0.628553</td>\n",
       "      <td>-0.280419</td>\n",
       "      <td>50.50</td>\n",
       "    </tr>\n",
       "    <tr>\n",
       "      <th>1808</th>\n",
       "      <td>-1.290150</td>\n",
       "      <td>-0.293721</td>\n",
       "      <td>-1.167400</td>\n",
       "      <td>-0.469644</td>\n",
       "      <td>-1.121106</td>\n",
       "      <td>-0.040786</td>\n",
       "      <td>-0.427384</td>\n",
       "      <td>-1.285450</td>\n",
       "      <td>0.628553</td>\n",
       "      <td>-0.253099</td>\n",
       "      <td>51.00</td>\n",
       "    </tr>\n",
       "    <tr>\n",
       "      <th>1809</th>\n",
       "      <td>-1.757068</td>\n",
       "      <td>-0.293721</td>\n",
       "      <td>-0.481341</td>\n",
       "      <td>-0.346223</td>\n",
       "      <td>-0.955231</td>\n",
       "      <td>0.285426</td>\n",
       "      <td>0.004740</td>\n",
       "      <td>-0.703213</td>\n",
       "      <td>0.628553</td>\n",
       "      <td>0.184029</td>\n",
       "      <td>58.00</td>\n",
       "    </tr>\n",
       "  </tbody>\n",
       "</table>\n",
       "<p>1810 rows × 11 columns</p>\n",
       "</div>"
      ],
      "text/plain": [
       "      RelativeHumidity  precipitation_rain  Wind_Speed_MPH  \\\n",
       "0            -2.709662           -0.293721        1.845295   \n",
       "1            -1.544453           -0.293721        1.151779   \n",
       "2             1.146575           -0.293721        0.473176   \n",
       "3            -0.735686           -0.293721        0.726720   \n",
       "4            -2.048891           -0.293721       -0.652856   \n",
       "...                ...                 ...             ...   \n",
       "1805          0.642137           -0.293721        0.644691   \n",
       "1806         -0.183306           -0.293721        0.644691   \n",
       "1807         -1.748730           -0.293721        1.673780   \n",
       "1808         -1.290150           -0.293721       -1.167400   \n",
       "1809         -1.757068           -0.293721       -0.481341   \n",
       "\n",
       "      Dewpoint_Fahrenheit  Dewpoint_Celsius  FeelsLike_Fahrenheit  \\\n",
       "0                0.174892         -0.258554              0.972802   \n",
       "1                0.792000          0.570823              1.147558   \n",
       "2                1.148552          1.068449              0.809696   \n",
       "3                0.558870          0.239072              0.728143   \n",
       "4                0.024043         -0.457605              0.786395   \n",
       "...                   ...               ...                   ...   \n",
       "1805            -0.346223         -0.955231             -0.588356   \n",
       "1806            -0.332509         -0.955231             -0.413600   \n",
       "1807            -0.579353         -1.286982             -0.145640   \n",
       "1808            -0.469644         -1.121106             -0.040786   \n",
       "1809            -0.346223         -0.955231              0.285426   \n",
       "\n",
       "      FeelsLike_Celsius  Pressure_In_Inches_of_Mercury  Visibility_In_Miles  \\\n",
       "0              0.895996                      -0.703213             0.628553   \n",
       "1              1.112058                      -1.285450             0.628553   \n",
       "2              0.679934                      -1.285450             0.112221   \n",
       "3              0.571903                      -0.703213             0.628553   \n",
       "4              0.652926                      -0.120975             0.628553   \n",
       "...                 ...                            ...                  ...   \n",
       "1805          -1.156593                      -1.285450            -0.232000   \n",
       "1806          -0.913523                      -1.285450             0.112221   \n",
       "1807          -0.535415                      -1.285450             0.628553   \n",
       "1808          -0.427384                      -1.285450             0.628553   \n",
       "1809           0.004740                      -0.703213             0.628553   \n",
       "\n",
       "      Target_Celsius  Target_Fahrenheit  \n",
       "0           1.085605              72.75  \n",
       "1           1.304169              76.50  \n",
       "2           0.867041              69.25  \n",
       "3           0.757760              67.50  \n",
       "4           0.839721              68.75  \n",
       "...              ...                ...  \n",
       "1805       -0.717547              43.50  \n",
       "1806       -0.498983              47.00  \n",
       "1807       -0.280419              50.50  \n",
       "1808       -0.253099              51.00  \n",
       "1809        0.184029              58.00  \n",
       "\n",
       "[1810 rows x 11 columns]"
      ]
     },
     "execution_count": 214,
     "metadata": {},
     "output_type": "execute_result"
    }
   ],
   "source": [
    "#Performs feature scaling\n",
    "from sklearn.preprocessing import StandardScaler\n",
    "\n",
    "features = grouped_df.drop(['Year', 'Month', 'Day', 'Target_Fahrenheit'], axis=1)\n",
    "target = grouped_df['Target_Fahrenheit']\n",
    "\n",
    "scaler = StandardScaler()\n",
    "scaled_features = scaler.fit_transform(features)\n",
    "\n",
    "scaled_df = pd.DataFrame(scaled_features, columns=features.columns)\n",
    "scaled_df['Target_Fahrenheit'] = target\n",
    "\n",
    "\n",
    "scaled_df"
   ]
  },
  {
   "cell_type": "code",
   "execution_count": 215,
   "id": "91f0f3a4",
   "metadata": {},
   "outputs": [],
   "source": [
    "#Extract column from grouped_df\n",
    "df_new = grouped_df[['Year', 'Month', 'Day']].copy()"
   ]
  },
  {
   "cell_type": "code",
   "execution_count": 216,
   "id": "fd458d07",
   "metadata": {},
   "outputs": [
    {
     "data": {
      "text/html": [
       "<div>\n",
       "<style scoped>\n",
       "    .dataframe tbody tr th:only-of-type {\n",
       "        vertical-align: middle;\n",
       "    }\n",
       "\n",
       "    .dataframe tbody tr th {\n",
       "        vertical-align: top;\n",
       "    }\n",
       "\n",
       "    .dataframe thead th {\n",
       "        text-align: right;\n",
       "    }\n",
       "</style>\n",
       "<table border=\"1\" class=\"dataframe\">\n",
       "  <thead>\n",
       "    <tr style=\"text-align: right;\">\n",
       "      <th></th>\n",
       "      <th>Year</th>\n",
       "      <th>Month</th>\n",
       "      <th>Day</th>\n",
       "    </tr>\n",
       "  </thead>\n",
       "  <tbody>\n",
       "    <tr>\n",
       "      <th>0</th>\n",
       "      <td>2018</td>\n",
       "      <td>5</td>\n",
       "      <td>1</td>\n",
       "    </tr>\n",
       "    <tr>\n",
       "      <th>1</th>\n",
       "      <td>2018</td>\n",
       "      <td>5</td>\n",
       "      <td>2</td>\n",
       "    </tr>\n",
       "    <tr>\n",
       "      <th>2</th>\n",
       "      <td>2018</td>\n",
       "      <td>5</td>\n",
       "      <td>3</td>\n",
       "    </tr>\n",
       "    <tr>\n",
       "      <th>3</th>\n",
       "      <td>2018</td>\n",
       "      <td>5</td>\n",
       "      <td>4</td>\n",
       "    </tr>\n",
       "    <tr>\n",
       "      <th>4</th>\n",
       "      <td>2018</td>\n",
       "      <td>5</td>\n",
       "      <td>5</td>\n",
       "    </tr>\n",
       "    <tr>\n",
       "      <th>...</th>\n",
       "      <td>...</td>\n",
       "      <td>...</td>\n",
       "      <td>...</td>\n",
       "    </tr>\n",
       "    <tr>\n",
       "      <th>1805</th>\n",
       "      <td>2023</td>\n",
       "      <td>4</td>\n",
       "      <td>30</td>\n",
       "    </tr>\n",
       "    <tr>\n",
       "      <th>1806</th>\n",
       "      <td>2023</td>\n",
       "      <td>5</td>\n",
       "      <td>1</td>\n",
       "    </tr>\n",
       "    <tr>\n",
       "      <th>1807</th>\n",
       "      <td>2023</td>\n",
       "      <td>5</td>\n",
       "      <td>2</td>\n",
       "    </tr>\n",
       "    <tr>\n",
       "      <th>1808</th>\n",
       "      <td>2023</td>\n",
       "      <td>5</td>\n",
       "      <td>3</td>\n",
       "    </tr>\n",
       "    <tr>\n",
       "      <th>1809</th>\n",
       "      <td>2023</td>\n",
       "      <td>5</td>\n",
       "      <td>4</td>\n",
       "    </tr>\n",
       "  </tbody>\n",
       "</table>\n",
       "<p>1810 rows × 3 columns</p>\n",
       "</div>"
      ],
      "text/plain": [
       "      Year  Month  Day\n",
       "0     2018      5    1\n",
       "1     2018      5    2\n",
       "2     2018      5    3\n",
       "3     2018      5    4\n",
       "4     2018      5    5\n",
       "...    ...    ...  ...\n",
       "1805  2023      4   30\n",
       "1806  2023      5    1\n",
       "1807  2023      5    2\n",
       "1808  2023      5    3\n",
       "1809  2023      5    4\n",
       "\n",
       "[1810 rows x 3 columns]"
      ]
     },
     "execution_count": 216,
     "metadata": {},
     "output_type": "execute_result"
    }
   ],
   "source": [
    "df_new"
   ]
  },
  {
   "cell_type": "code",
   "execution_count": 219,
   "id": "6898f9a8",
   "metadata": {},
   "outputs": [
    {
     "data": {
      "text/html": [
       "<div>\n",
       "<style scoped>\n",
       "    .dataframe tbody tr th:only-of-type {\n",
       "        vertical-align: middle;\n",
       "    }\n",
       "\n",
       "    .dataframe tbody tr th {\n",
       "        vertical-align: top;\n",
       "    }\n",
       "\n",
       "    .dataframe thead th {\n",
       "        text-align: right;\n",
       "    }\n",
       "</style>\n",
       "<table border=\"1\" class=\"dataframe\">\n",
       "  <thead>\n",
       "    <tr style=\"text-align: right;\">\n",
       "      <th></th>\n",
       "      <th>RelativeHumidity</th>\n",
       "      <th>precipitation_rain</th>\n",
       "      <th>Wind_Speed_MPH</th>\n",
       "      <th>Dewpoint_Fahrenheit</th>\n",
       "      <th>Dewpoint_Celsius</th>\n",
       "      <th>FeelsLike_Fahrenheit</th>\n",
       "      <th>FeelsLike_Celsius</th>\n",
       "      <th>Pressure_In_Inches_of_Mercury</th>\n",
       "      <th>Visibility_In_Miles</th>\n",
       "      <th>Target_Celsius</th>\n",
       "      <th>Target_Fahrenheit</th>\n",
       "    </tr>\n",
       "  </thead>\n",
       "  <tbody>\n",
       "    <tr>\n",
       "      <th>0</th>\n",
       "      <td>-2.709662</td>\n",
       "      <td>-0.293721</td>\n",
       "      <td>1.845295</td>\n",
       "      <td>0.174892</td>\n",
       "      <td>-0.258554</td>\n",
       "      <td>0.972802</td>\n",
       "      <td>0.895996</td>\n",
       "      <td>-0.703213</td>\n",
       "      <td>0.628553</td>\n",
       "      <td>1.085605</td>\n",
       "      <td>72.75</td>\n",
       "    </tr>\n",
       "    <tr>\n",
       "      <th>1</th>\n",
       "      <td>-1.544453</td>\n",
       "      <td>-0.293721</td>\n",
       "      <td>1.151779</td>\n",
       "      <td>0.792000</td>\n",
       "      <td>0.570823</td>\n",
       "      <td>1.147558</td>\n",
       "      <td>1.112058</td>\n",
       "      <td>-1.285450</td>\n",
       "      <td>0.628553</td>\n",
       "      <td>1.304169</td>\n",
       "      <td>76.50</td>\n",
       "    </tr>\n",
       "    <tr>\n",
       "      <th>2</th>\n",
       "      <td>1.146575</td>\n",
       "      <td>-0.293721</td>\n",
       "      <td>0.473176</td>\n",
       "      <td>1.148552</td>\n",
       "      <td>1.068449</td>\n",
       "      <td>0.809696</td>\n",
       "      <td>0.679934</td>\n",
       "      <td>-1.285450</td>\n",
       "      <td>0.112221</td>\n",
       "      <td>0.867041</td>\n",
       "      <td>69.25</td>\n",
       "    </tr>\n",
       "    <tr>\n",
       "      <th>3</th>\n",
       "      <td>-0.735686</td>\n",
       "      <td>-0.293721</td>\n",
       "      <td>0.726720</td>\n",
       "      <td>0.558870</td>\n",
       "      <td>0.239072</td>\n",
       "      <td>0.728143</td>\n",
       "      <td>0.571903</td>\n",
       "      <td>-0.703213</td>\n",
       "      <td>0.628553</td>\n",
       "      <td>0.757760</td>\n",
       "      <td>67.50</td>\n",
       "    </tr>\n",
       "    <tr>\n",
       "      <th>4</th>\n",
       "      <td>-2.048891</td>\n",
       "      <td>-0.293721</td>\n",
       "      <td>-0.652856</td>\n",
       "      <td>0.024043</td>\n",
       "      <td>-0.457605</td>\n",
       "      <td>0.786395</td>\n",
       "      <td>0.652926</td>\n",
       "      <td>-0.120975</td>\n",
       "      <td>0.628553</td>\n",
       "      <td>0.839721</td>\n",
       "      <td>68.75</td>\n",
       "    </tr>\n",
       "    <tr>\n",
       "      <th>...</th>\n",
       "      <td>...</td>\n",
       "      <td>...</td>\n",
       "      <td>...</td>\n",
       "      <td>...</td>\n",
       "      <td>...</td>\n",
       "      <td>...</td>\n",
       "      <td>...</td>\n",
       "      <td>...</td>\n",
       "      <td>...</td>\n",
       "      <td>...</td>\n",
       "      <td>...</td>\n",
       "    </tr>\n",
       "    <tr>\n",
       "      <th>1805</th>\n",
       "      <td>0.642137</td>\n",
       "      <td>-0.293721</td>\n",
       "      <td>0.644691</td>\n",
       "      <td>-0.346223</td>\n",
       "      <td>-0.955231</td>\n",
       "      <td>-0.588356</td>\n",
       "      <td>-1.156593</td>\n",
       "      <td>-1.285450</td>\n",
       "      <td>-0.232000</td>\n",
       "      <td>-0.717547</td>\n",
       "      <td>43.50</td>\n",
       "    </tr>\n",
       "    <tr>\n",
       "      <th>1806</th>\n",
       "      <td>-0.183306</td>\n",
       "      <td>-0.293721</td>\n",
       "      <td>0.644691</td>\n",
       "      <td>-0.332509</td>\n",
       "      <td>-0.955231</td>\n",
       "      <td>-0.413600</td>\n",
       "      <td>-0.913523</td>\n",
       "      <td>-1.285450</td>\n",
       "      <td>0.112221</td>\n",
       "      <td>-0.498983</td>\n",
       "      <td>47.00</td>\n",
       "    </tr>\n",
       "    <tr>\n",
       "      <th>1807</th>\n",
       "      <td>-1.748730</td>\n",
       "      <td>-0.293721</td>\n",
       "      <td>1.673780</td>\n",
       "      <td>-0.579353</td>\n",
       "      <td>-1.286982</td>\n",
       "      <td>-0.145640</td>\n",
       "      <td>-0.535415</td>\n",
       "      <td>-1.285450</td>\n",
       "      <td>0.628553</td>\n",
       "      <td>-0.280419</td>\n",
       "      <td>50.50</td>\n",
       "    </tr>\n",
       "    <tr>\n",
       "      <th>1808</th>\n",
       "      <td>-1.290150</td>\n",
       "      <td>-0.293721</td>\n",
       "      <td>-1.167400</td>\n",
       "      <td>-0.469644</td>\n",
       "      <td>-1.121106</td>\n",
       "      <td>-0.040786</td>\n",
       "      <td>-0.427384</td>\n",
       "      <td>-1.285450</td>\n",
       "      <td>0.628553</td>\n",
       "      <td>-0.253099</td>\n",
       "      <td>51.00</td>\n",
       "    </tr>\n",
       "    <tr>\n",
       "      <th>1809</th>\n",
       "      <td>-1.757068</td>\n",
       "      <td>-0.293721</td>\n",
       "      <td>-0.481341</td>\n",
       "      <td>-0.346223</td>\n",
       "      <td>-0.955231</td>\n",
       "      <td>0.285426</td>\n",
       "      <td>0.004740</td>\n",
       "      <td>-0.703213</td>\n",
       "      <td>0.628553</td>\n",
       "      <td>0.184029</td>\n",
       "      <td>58.00</td>\n",
       "    </tr>\n",
       "  </tbody>\n",
       "</table>\n",
       "<p>1810 rows × 11 columns</p>\n",
       "</div>"
      ],
      "text/plain": [
       "      RelativeHumidity  precipitation_rain  Wind_Speed_MPH  \\\n",
       "0            -2.709662           -0.293721        1.845295   \n",
       "1            -1.544453           -0.293721        1.151779   \n",
       "2             1.146575           -0.293721        0.473176   \n",
       "3            -0.735686           -0.293721        0.726720   \n",
       "4            -2.048891           -0.293721       -0.652856   \n",
       "...                ...                 ...             ...   \n",
       "1805          0.642137           -0.293721        0.644691   \n",
       "1806         -0.183306           -0.293721        0.644691   \n",
       "1807         -1.748730           -0.293721        1.673780   \n",
       "1808         -1.290150           -0.293721       -1.167400   \n",
       "1809         -1.757068           -0.293721       -0.481341   \n",
       "\n",
       "      Dewpoint_Fahrenheit  Dewpoint_Celsius  FeelsLike_Fahrenheit  \\\n",
       "0                0.174892         -0.258554              0.972802   \n",
       "1                0.792000          0.570823              1.147558   \n",
       "2                1.148552          1.068449              0.809696   \n",
       "3                0.558870          0.239072              0.728143   \n",
       "4                0.024043         -0.457605              0.786395   \n",
       "...                   ...               ...                   ...   \n",
       "1805            -0.346223         -0.955231             -0.588356   \n",
       "1806            -0.332509         -0.955231             -0.413600   \n",
       "1807            -0.579353         -1.286982             -0.145640   \n",
       "1808            -0.469644         -1.121106             -0.040786   \n",
       "1809            -0.346223         -0.955231              0.285426   \n",
       "\n",
       "      FeelsLike_Celsius  Pressure_In_Inches_of_Mercury  Visibility_In_Miles  \\\n",
       "0              0.895996                      -0.703213             0.628553   \n",
       "1              1.112058                      -1.285450             0.628553   \n",
       "2              0.679934                      -1.285450             0.112221   \n",
       "3              0.571903                      -0.703213             0.628553   \n",
       "4              0.652926                      -0.120975             0.628553   \n",
       "...                 ...                            ...                  ...   \n",
       "1805          -1.156593                      -1.285450            -0.232000   \n",
       "1806          -0.913523                      -1.285450             0.112221   \n",
       "1807          -0.535415                      -1.285450             0.628553   \n",
       "1808          -0.427384                      -1.285450             0.628553   \n",
       "1809           0.004740                      -0.703213             0.628553   \n",
       "\n",
       "      Target_Celsius  Target_Fahrenheit  \n",
       "0           1.085605              72.75  \n",
       "1           1.304169              76.50  \n",
       "2           0.867041              69.25  \n",
       "3           0.757760              67.50  \n",
       "4           0.839721              68.75  \n",
       "...              ...                ...  \n",
       "1805       -0.717547              43.50  \n",
       "1806       -0.498983              47.00  \n",
       "1807       -0.280419              50.50  \n",
       "1808       -0.253099              51.00  \n",
       "1809        0.184029              58.00  \n",
       "\n",
       "[1810 rows x 11 columns]"
      ]
     },
     "execution_count": 219,
     "metadata": {},
     "output_type": "execute_result"
    }
   ],
   "source": [
    "scaled_df"
   ]
  },
  {
   "cell_type": "code",
   "execution_count": 220,
   "id": "90a4dd13",
   "metadata": {},
   "outputs": [
    {
     "data": {
      "text/html": [
       "<div>\n",
       "<style scoped>\n",
       "    .dataframe tbody tr th:only-of-type {\n",
       "        vertical-align: middle;\n",
       "    }\n",
       "\n",
       "    .dataframe tbody tr th {\n",
       "        vertical-align: top;\n",
       "    }\n",
       "\n",
       "    .dataframe thead th {\n",
       "        text-align: right;\n",
       "    }\n",
       "</style>\n",
       "<table border=\"1\" class=\"dataframe\">\n",
       "  <thead>\n",
       "    <tr style=\"text-align: right;\">\n",
       "      <th></th>\n",
       "      <th>Year</th>\n",
       "      <th>Month</th>\n",
       "      <th>Day</th>\n",
       "      <th>RelativeHumidity</th>\n",
       "      <th>precipitation_rain</th>\n",
       "      <th>Wind_Speed_MPH</th>\n",
       "      <th>Dewpoint_Fahrenheit</th>\n",
       "      <th>Dewpoint_Celsius</th>\n",
       "      <th>FeelsLike_Fahrenheit</th>\n",
       "      <th>FeelsLike_Celsius</th>\n",
       "      <th>Pressure_In_Inches_of_Mercury</th>\n",
       "      <th>Visibility_In_Miles</th>\n",
       "      <th>Target_Celsius</th>\n",
       "      <th>Target_Fahrenheit</th>\n",
       "    </tr>\n",
       "  </thead>\n",
       "  <tbody>\n",
       "    <tr>\n",
       "      <th>0</th>\n",
       "      <td>2018</td>\n",
       "      <td>5</td>\n",
       "      <td>1</td>\n",
       "      <td>-2.709662</td>\n",
       "      <td>-0.293721</td>\n",
       "      <td>1.845295</td>\n",
       "      <td>0.174892</td>\n",
       "      <td>-0.258554</td>\n",
       "      <td>0.972802</td>\n",
       "      <td>0.895996</td>\n",
       "      <td>-0.703213</td>\n",
       "      <td>0.628553</td>\n",
       "      <td>1.085605</td>\n",
       "      <td>72.75</td>\n",
       "    </tr>\n",
       "    <tr>\n",
       "      <th>1</th>\n",
       "      <td>2018</td>\n",
       "      <td>5</td>\n",
       "      <td>2</td>\n",
       "      <td>-1.544453</td>\n",
       "      <td>-0.293721</td>\n",
       "      <td>1.151779</td>\n",
       "      <td>0.792000</td>\n",
       "      <td>0.570823</td>\n",
       "      <td>1.147558</td>\n",
       "      <td>1.112058</td>\n",
       "      <td>-1.285450</td>\n",
       "      <td>0.628553</td>\n",
       "      <td>1.304169</td>\n",
       "      <td>76.50</td>\n",
       "    </tr>\n",
       "    <tr>\n",
       "      <th>2</th>\n",
       "      <td>2018</td>\n",
       "      <td>5</td>\n",
       "      <td>3</td>\n",
       "      <td>1.146575</td>\n",
       "      <td>-0.293721</td>\n",
       "      <td>0.473176</td>\n",
       "      <td>1.148552</td>\n",
       "      <td>1.068449</td>\n",
       "      <td>0.809696</td>\n",
       "      <td>0.679934</td>\n",
       "      <td>-1.285450</td>\n",
       "      <td>0.112221</td>\n",
       "      <td>0.867041</td>\n",
       "      <td>69.25</td>\n",
       "    </tr>\n",
       "    <tr>\n",
       "      <th>3</th>\n",
       "      <td>2018</td>\n",
       "      <td>5</td>\n",
       "      <td>4</td>\n",
       "      <td>-0.735686</td>\n",
       "      <td>-0.293721</td>\n",
       "      <td>0.726720</td>\n",
       "      <td>0.558870</td>\n",
       "      <td>0.239072</td>\n",
       "      <td>0.728143</td>\n",
       "      <td>0.571903</td>\n",
       "      <td>-0.703213</td>\n",
       "      <td>0.628553</td>\n",
       "      <td>0.757760</td>\n",
       "      <td>67.50</td>\n",
       "    </tr>\n",
       "    <tr>\n",
       "      <th>4</th>\n",
       "      <td>2018</td>\n",
       "      <td>5</td>\n",
       "      <td>5</td>\n",
       "      <td>-2.048891</td>\n",
       "      <td>-0.293721</td>\n",
       "      <td>-0.652856</td>\n",
       "      <td>0.024043</td>\n",
       "      <td>-0.457605</td>\n",
       "      <td>0.786395</td>\n",
       "      <td>0.652926</td>\n",
       "      <td>-0.120975</td>\n",
       "      <td>0.628553</td>\n",
       "      <td>0.839721</td>\n",
       "      <td>68.75</td>\n",
       "    </tr>\n",
       "    <tr>\n",
       "      <th>...</th>\n",
       "      <td>...</td>\n",
       "      <td>...</td>\n",
       "      <td>...</td>\n",
       "      <td>...</td>\n",
       "      <td>...</td>\n",
       "      <td>...</td>\n",
       "      <td>...</td>\n",
       "      <td>...</td>\n",
       "      <td>...</td>\n",
       "      <td>...</td>\n",
       "      <td>...</td>\n",
       "      <td>...</td>\n",
       "      <td>...</td>\n",
       "      <td>...</td>\n",
       "    </tr>\n",
       "    <tr>\n",
       "      <th>1805</th>\n",
       "      <td>2023</td>\n",
       "      <td>4</td>\n",
       "      <td>30</td>\n",
       "      <td>0.642137</td>\n",
       "      <td>-0.293721</td>\n",
       "      <td>0.644691</td>\n",
       "      <td>-0.346223</td>\n",
       "      <td>-0.955231</td>\n",
       "      <td>-0.588356</td>\n",
       "      <td>-1.156593</td>\n",
       "      <td>-1.285450</td>\n",
       "      <td>-0.232000</td>\n",
       "      <td>-0.717547</td>\n",
       "      <td>43.50</td>\n",
       "    </tr>\n",
       "    <tr>\n",
       "      <th>1806</th>\n",
       "      <td>2023</td>\n",
       "      <td>5</td>\n",
       "      <td>1</td>\n",
       "      <td>-0.183306</td>\n",
       "      <td>-0.293721</td>\n",
       "      <td>0.644691</td>\n",
       "      <td>-0.332509</td>\n",
       "      <td>-0.955231</td>\n",
       "      <td>-0.413600</td>\n",
       "      <td>-0.913523</td>\n",
       "      <td>-1.285450</td>\n",
       "      <td>0.112221</td>\n",
       "      <td>-0.498983</td>\n",
       "      <td>47.00</td>\n",
       "    </tr>\n",
       "    <tr>\n",
       "      <th>1807</th>\n",
       "      <td>2023</td>\n",
       "      <td>5</td>\n",
       "      <td>2</td>\n",
       "      <td>-1.748730</td>\n",
       "      <td>-0.293721</td>\n",
       "      <td>1.673780</td>\n",
       "      <td>-0.579353</td>\n",
       "      <td>-1.286982</td>\n",
       "      <td>-0.145640</td>\n",
       "      <td>-0.535415</td>\n",
       "      <td>-1.285450</td>\n",
       "      <td>0.628553</td>\n",
       "      <td>-0.280419</td>\n",
       "      <td>50.50</td>\n",
       "    </tr>\n",
       "    <tr>\n",
       "      <th>1808</th>\n",
       "      <td>2023</td>\n",
       "      <td>5</td>\n",
       "      <td>3</td>\n",
       "      <td>-1.290150</td>\n",
       "      <td>-0.293721</td>\n",
       "      <td>-1.167400</td>\n",
       "      <td>-0.469644</td>\n",
       "      <td>-1.121106</td>\n",
       "      <td>-0.040786</td>\n",
       "      <td>-0.427384</td>\n",
       "      <td>-1.285450</td>\n",
       "      <td>0.628553</td>\n",
       "      <td>-0.253099</td>\n",
       "      <td>51.00</td>\n",
       "    </tr>\n",
       "    <tr>\n",
       "      <th>1809</th>\n",
       "      <td>2023</td>\n",
       "      <td>5</td>\n",
       "      <td>4</td>\n",
       "      <td>-1.757068</td>\n",
       "      <td>-0.293721</td>\n",
       "      <td>-0.481341</td>\n",
       "      <td>-0.346223</td>\n",
       "      <td>-0.955231</td>\n",
       "      <td>0.285426</td>\n",
       "      <td>0.004740</td>\n",
       "      <td>-0.703213</td>\n",
       "      <td>0.628553</td>\n",
       "      <td>0.184029</td>\n",
       "      <td>58.00</td>\n",
       "    </tr>\n",
       "  </tbody>\n",
       "</table>\n",
       "<p>1810 rows × 14 columns</p>\n",
       "</div>"
      ],
      "text/plain": [
       "      Year  Month  Day  RelativeHumidity  precipitation_rain  Wind_Speed_MPH  \\\n",
       "0     2018      5    1         -2.709662           -0.293721        1.845295   \n",
       "1     2018      5    2         -1.544453           -0.293721        1.151779   \n",
       "2     2018      5    3          1.146575           -0.293721        0.473176   \n",
       "3     2018      5    4         -0.735686           -0.293721        0.726720   \n",
       "4     2018      5    5         -2.048891           -0.293721       -0.652856   \n",
       "...    ...    ...  ...               ...                 ...             ...   \n",
       "1805  2023      4   30          0.642137           -0.293721        0.644691   \n",
       "1806  2023      5    1         -0.183306           -0.293721        0.644691   \n",
       "1807  2023      5    2         -1.748730           -0.293721        1.673780   \n",
       "1808  2023      5    3         -1.290150           -0.293721       -1.167400   \n",
       "1809  2023      5    4         -1.757068           -0.293721       -0.481341   \n",
       "\n",
       "      Dewpoint_Fahrenheit  Dewpoint_Celsius  FeelsLike_Fahrenheit  \\\n",
       "0                0.174892         -0.258554              0.972802   \n",
       "1                0.792000          0.570823              1.147558   \n",
       "2                1.148552          1.068449              0.809696   \n",
       "3                0.558870          0.239072              0.728143   \n",
       "4                0.024043         -0.457605              0.786395   \n",
       "...                   ...               ...                   ...   \n",
       "1805            -0.346223         -0.955231             -0.588356   \n",
       "1806            -0.332509         -0.955231             -0.413600   \n",
       "1807            -0.579353         -1.286982             -0.145640   \n",
       "1808            -0.469644         -1.121106             -0.040786   \n",
       "1809            -0.346223         -0.955231              0.285426   \n",
       "\n",
       "      FeelsLike_Celsius  Pressure_In_Inches_of_Mercury  Visibility_In_Miles  \\\n",
       "0              0.895996                      -0.703213             0.628553   \n",
       "1              1.112058                      -1.285450             0.628553   \n",
       "2              0.679934                      -1.285450             0.112221   \n",
       "3              0.571903                      -0.703213             0.628553   \n",
       "4              0.652926                      -0.120975             0.628553   \n",
       "...                 ...                            ...                  ...   \n",
       "1805          -1.156593                      -1.285450            -0.232000   \n",
       "1806          -0.913523                      -1.285450             0.112221   \n",
       "1807          -0.535415                      -1.285450             0.628553   \n",
       "1808          -0.427384                      -1.285450             0.628553   \n",
       "1809           0.004740                      -0.703213             0.628553   \n",
       "\n",
       "      Target_Celsius  Target_Fahrenheit  \n",
       "0           1.085605              72.75  \n",
       "1           1.304169              76.50  \n",
       "2           0.867041              69.25  \n",
       "3           0.757760              67.50  \n",
       "4           0.839721              68.75  \n",
       "...              ...                ...  \n",
       "1805       -0.717547              43.50  \n",
       "1806       -0.498983              47.00  \n",
       "1807       -0.280419              50.50  \n",
       "1808       -0.253099              51.00  \n",
       "1809        0.184029              58.00  \n",
       "\n",
       "[1810 rows x 14 columns]"
      ]
     },
     "execution_count": 220,
     "metadata": {},
     "output_type": "execute_result"
    }
   ],
   "source": [
    "#concatenate \n",
    "merged_df = pd.concat([df_new, scaled_df], axis=1)\n",
    "merged_df"
   ]
  },
  {
   "cell_type": "markdown",
   "id": "8981625a",
   "metadata": {},
   "source": [
    "## Model Evaluation and Model Selection"
   ]
  },
  {
   "cell_type": "code",
   "execution_count": 221,
   "id": "5e8452dd",
   "metadata": {
    "scrolled": false
   },
   "outputs": [
    {
     "data": {
      "text/html": [
       "<div>\n",
       "<style scoped>\n",
       "    .dataframe tbody tr th:only-of-type {\n",
       "        vertical-align: middle;\n",
       "    }\n",
       "\n",
       "    .dataframe tbody tr th {\n",
       "        vertical-align: top;\n",
       "    }\n",
       "\n",
       "    .dataframe thead th {\n",
       "        text-align: right;\n",
       "    }\n",
       "</style>\n",
       "<table border=\"1\" class=\"dataframe\">\n",
       "  <thead>\n",
       "    <tr style=\"text-align: right;\">\n",
       "      <th></th>\n",
       "      <th>Year</th>\n",
       "      <th>Month</th>\n",
       "      <th>Day</th>\n",
       "      <th>Target_Fahrenheit</th>\n",
       "    </tr>\n",
       "  </thead>\n",
       "  <tbody>\n",
       "    <tr>\n",
       "      <th>0</th>\n",
       "      <td>2018</td>\n",
       "      <td>5</td>\n",
       "      <td>1</td>\n",
       "      <td>72.75</td>\n",
       "    </tr>\n",
       "    <tr>\n",
       "      <th>1</th>\n",
       "      <td>2018</td>\n",
       "      <td>5</td>\n",
       "      <td>2</td>\n",
       "      <td>76.50</td>\n",
       "    </tr>\n",
       "    <tr>\n",
       "      <th>2</th>\n",
       "      <td>2018</td>\n",
       "      <td>5</td>\n",
       "      <td>3</td>\n",
       "      <td>69.25</td>\n",
       "    </tr>\n",
       "    <tr>\n",
       "      <th>3</th>\n",
       "      <td>2018</td>\n",
       "      <td>5</td>\n",
       "      <td>4</td>\n",
       "      <td>67.50</td>\n",
       "    </tr>\n",
       "    <tr>\n",
       "      <th>4</th>\n",
       "      <td>2018</td>\n",
       "      <td>5</td>\n",
       "      <td>5</td>\n",
       "      <td>68.75</td>\n",
       "    </tr>\n",
       "    <tr>\n",
       "      <th>...</th>\n",
       "      <td>...</td>\n",
       "      <td>...</td>\n",
       "      <td>...</td>\n",
       "      <td>...</td>\n",
       "    </tr>\n",
       "    <tr>\n",
       "      <th>1805</th>\n",
       "      <td>2023</td>\n",
       "      <td>4</td>\n",
       "      <td>30</td>\n",
       "      <td>43.50</td>\n",
       "    </tr>\n",
       "    <tr>\n",
       "      <th>1806</th>\n",
       "      <td>2023</td>\n",
       "      <td>5</td>\n",
       "      <td>1</td>\n",
       "      <td>47.00</td>\n",
       "    </tr>\n",
       "    <tr>\n",
       "      <th>1807</th>\n",
       "      <td>2023</td>\n",
       "      <td>5</td>\n",
       "      <td>2</td>\n",
       "      <td>50.50</td>\n",
       "    </tr>\n",
       "    <tr>\n",
       "      <th>1808</th>\n",
       "      <td>2023</td>\n",
       "      <td>5</td>\n",
       "      <td>3</td>\n",
       "      <td>51.00</td>\n",
       "    </tr>\n",
       "    <tr>\n",
       "      <th>1809</th>\n",
       "      <td>2023</td>\n",
       "      <td>5</td>\n",
       "      <td>4</td>\n",
       "      <td>58.00</td>\n",
       "    </tr>\n",
       "  </tbody>\n",
       "</table>\n",
       "<p>1810 rows × 4 columns</p>\n",
       "</div>"
      ],
      "text/plain": [
       "      Year  Month  Day  Target_Fahrenheit\n",
       "0     2018      5    1              72.75\n",
       "1     2018      5    2              76.50\n",
       "2     2018      5    3              69.25\n",
       "3     2018      5    4              67.50\n",
       "4     2018      5    5              68.75\n",
       "...    ...    ...  ...                ...\n",
       "1805  2023      4   30              43.50\n",
       "1806  2023      5    1              47.00\n",
       "1807  2023      5    2              50.50\n",
       "1808  2023      5    3              51.00\n",
       "1809  2023      5    4              58.00\n",
       "\n",
       "[1810 rows x 4 columns]"
      ]
     },
     "execution_count": 221,
     "metadata": {},
     "output_type": "execute_result"
    }
   ],
   "source": [
    "final_df = merged_df[['Year', 'Month', 'Day', 'Target_Fahrenheit']].copy()\n",
    "final_df"
   ]
  },
  {
   "cell_type": "code",
   "execution_count": 222,
   "id": "8f3a98b6",
   "metadata": {},
   "outputs": [],
   "source": [
    "final_df['Target_Fahrenheit'] = np.round(final_df['Target_Fahrenheit'])"
   ]
  },
  {
   "cell_type": "code",
   "execution_count": 228,
   "id": "af9b6649",
   "metadata": {},
   "outputs": [
    {
     "data": {
      "text/html": [
       "<div>\n",
       "<style scoped>\n",
       "    .dataframe tbody tr th:only-of-type {\n",
       "        vertical-align: middle;\n",
       "    }\n",
       "\n",
       "    .dataframe tbody tr th {\n",
       "        vertical-align: top;\n",
       "    }\n",
       "\n",
       "    .dataframe thead th {\n",
       "        text-align: right;\n",
       "    }\n",
       "</style>\n",
       "<table border=\"1\" class=\"dataframe\">\n",
       "  <thead>\n",
       "    <tr style=\"text-align: right;\">\n",
       "      <th></th>\n",
       "      <th>Year</th>\n",
       "      <th>Month</th>\n",
       "      <th>Day</th>\n",
       "      <th>Target_Fahrenheit</th>\n",
       "    </tr>\n",
       "  </thead>\n",
       "  <tbody>\n",
       "    <tr>\n",
       "      <th>0</th>\n",
       "      <td>2018</td>\n",
       "      <td>5</td>\n",
       "      <td>1</td>\n",
       "      <td>73.0</td>\n",
       "    </tr>\n",
       "    <tr>\n",
       "      <th>1</th>\n",
       "      <td>2018</td>\n",
       "      <td>5</td>\n",
       "      <td>2</td>\n",
       "      <td>76.0</td>\n",
       "    </tr>\n",
       "    <tr>\n",
       "      <th>2</th>\n",
       "      <td>2018</td>\n",
       "      <td>5</td>\n",
       "      <td>3</td>\n",
       "      <td>69.0</td>\n",
       "    </tr>\n",
       "    <tr>\n",
       "      <th>3</th>\n",
       "      <td>2018</td>\n",
       "      <td>5</td>\n",
       "      <td>4</td>\n",
       "      <td>68.0</td>\n",
       "    </tr>\n",
       "    <tr>\n",
       "      <th>4</th>\n",
       "      <td>2018</td>\n",
       "      <td>5</td>\n",
       "      <td>5</td>\n",
       "      <td>69.0</td>\n",
       "    </tr>\n",
       "    <tr>\n",
       "      <th>...</th>\n",
       "      <td>...</td>\n",
       "      <td>...</td>\n",
       "      <td>...</td>\n",
       "      <td>...</td>\n",
       "    </tr>\n",
       "    <tr>\n",
       "      <th>1805</th>\n",
       "      <td>2023</td>\n",
       "      <td>4</td>\n",
       "      <td>30</td>\n",
       "      <td>44.0</td>\n",
       "    </tr>\n",
       "    <tr>\n",
       "      <th>1806</th>\n",
       "      <td>2023</td>\n",
       "      <td>5</td>\n",
       "      <td>1</td>\n",
       "      <td>47.0</td>\n",
       "    </tr>\n",
       "    <tr>\n",
       "      <th>1807</th>\n",
       "      <td>2023</td>\n",
       "      <td>5</td>\n",
       "      <td>2</td>\n",
       "      <td>50.0</td>\n",
       "    </tr>\n",
       "    <tr>\n",
       "      <th>1808</th>\n",
       "      <td>2023</td>\n",
       "      <td>5</td>\n",
       "      <td>3</td>\n",
       "      <td>51.0</td>\n",
       "    </tr>\n",
       "    <tr>\n",
       "      <th>1809</th>\n",
       "      <td>2023</td>\n",
       "      <td>5</td>\n",
       "      <td>4</td>\n",
       "      <td>58.0</td>\n",
       "    </tr>\n",
       "  </tbody>\n",
       "</table>\n",
       "<p>1810 rows × 4 columns</p>\n",
       "</div>"
      ],
      "text/plain": [
       "      Year  Month  Day  Target_Fahrenheit\n",
       "0     2018      5    1               73.0\n",
       "1     2018      5    2               76.0\n",
       "2     2018      5    3               69.0\n",
       "3     2018      5    4               68.0\n",
       "4     2018      5    5               69.0\n",
       "...    ...    ...  ...                ...\n",
       "1805  2023      4   30               44.0\n",
       "1806  2023      5    1               47.0\n",
       "1807  2023      5    2               50.0\n",
       "1808  2023      5    3               51.0\n",
       "1809  2023      5    4               58.0\n",
       "\n",
       "[1810 rows x 4 columns]"
      ]
     },
     "execution_count": 228,
     "metadata": {},
     "output_type": "execute_result"
    }
   ],
   "source": [
    "final_df"
   ]
  },
  {
   "cell_type": "code",
   "execution_count": 224,
   "id": "612d4794",
   "metadata": {},
   "outputs": [],
   "source": [
    "#Features selection\n",
    "from sklearn.model_selection import train_test_split\n",
    "\n",
    "X = final_df[['Year', 'Month', 'Day']]\n",
    "y = final_df['Target_Fahrenheit']\n",
    "\n",
    "X_train, X_test, y_train, y_test = train_test_split(X, y, test_size=0.2, random_state=42)"
   ]
  },
  {
   "cell_type": "code",
   "execution_count": 225,
   "id": "bf45197f",
   "metadata": {},
   "outputs": [
    {
     "name": "stdout",
     "output_type": "stream",
     "text": [
      "Random Forest R2 score: 0.889556794715603\n",
      "Random Forest MSE: 42.77146325966851\n"
     ]
    }
   ],
   "source": [
    "#RendomForest Regressor\n",
    "from sklearn.ensemble import RandomForestRegressor\n",
    "from sklearn.metrics import mean_squared_error, r2_score\n",
    "\n",
    "# Random Forest\n",
    "rf = RandomForestRegressor()\n",
    "rf.fit(X_train, y_train)\n",
    "rf_predictions = rf.predict(X_test)\n",
    "rf_mse = mean_squared_error(y_test, rf_predictions)\n",
    "\n",
    "# Calculate R2 score\n",
    "rf_r2 = r2_score(y_test, rf_predictions)\n",
    "print(\"Random Forest R2 score:\", rf_r2)\n",
    "\n",
    "print(\"Random Forest MSE:\", rf_mse)"
   ]
  },
  {
   "cell_type": "code",
   "execution_count": 226,
   "id": "45849314",
   "metadata": {},
   "outputs": [
    {
     "name": "stdout",
     "output_type": "stream",
     "text": [
      "Linear Regression R2 score: 0.8580662262345704\n",
      "Decision Tree MSE: 54.966850828729285\n"
     ]
    }
   ],
   "source": [
    "#DecisionTree Regressor\n",
    "from sklearn.tree import DecisionTreeRegressor\n",
    "from sklearn.metrics import mean_squared_error, r2_score\n",
    "\n",
    "# Decision Tree\n",
    "dt = DecisionTreeRegressor()\n",
    "dt.fit(X_train, y_train)\n",
    "dt_predictions = dt.predict(X_test)\n",
    "dt_mse = mean_squared_error(y_test, dt_predictions)\n",
    "\n",
    "# Calculate R2 score\n",
    "dt_r2 = r2_score(y_test, dt_predictions)\n",
    "print(\"Linear Regression R2 score:\", dt_r2)\n",
    "print(\"Decision Tree MSE:\", dt_mse)"
   ]
  },
  {
   "cell_type": "markdown",
   "id": "e61497ce",
   "metadata": {},
   "source": [
    "## User Prediction"
   ]
  },
  {
   "cell_type": "code",
   "execution_count": 236,
   "id": "3b733c60",
   "metadata": {},
   "outputs": [
    {
     "name": "stdout",
     "output_type": "stream",
     "text": [
      "Enter the month: 2\n",
      "Enter the day: 10\n",
      "Predicted temperature of 2024 in Fahrenheit : 34\n"
     ]
    }
   ],
   "source": [
    "#Predict wether of 2024 taking input of Month and day\n",
    "#user_year = int(input(\"Enter the year: \"))\n",
    "user_year=2024\n",
    "user_month = int(input(\"Enter the month: \"))\n",
    "user_day = int(input(\"Enter the day: \"))\n",
    "# Create a dataframe with user input\n",
    "user_input = pd.DataFrame({'Year': [user_year], 'Month': [user_month], 'Day': [user_day]})\n",
    "\n",
    "# Predict the Celsius temperature\n",
    "user_prediction = rf.predict(user_input)\n",
    "\n",
    "# Print the predicted temperature\n",
    "print(\"Predicted temperature of 2024 in Fahrenheit :\", int(user_prediction[0]))"
   ]
  },
  {
   "cell_type": "code",
   "execution_count": null,
   "id": "a4eed40e",
   "metadata": {},
   "outputs": [],
   "source": []
  }
 ],
 "metadata": {
  "kernelspec": {
   "display_name": "Python 3",
   "language": "python",
   "name": "python3"
  },
  "language_info": {
   "codemirror_mode": {
    "name": "ipython",
    "version": 3
   },
   "file_extension": ".py",
   "mimetype": "text/x-python",
   "name": "python",
   "nbconvert_exporter": "python",
   "pygments_lexer": "ipython3",
   "version": "3.8.8"
  }
 },
 "nbformat": 4,
 "nbformat_minor": 5
}
